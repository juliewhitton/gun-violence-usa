{
 "cells": [
  {
   "cell_type": "code",
   "execution_count": 1,
   "id": "c8fec08d",
   "metadata": {},
   "outputs": [],
   "source": [
    "#import libraries\n",
    "\n",
    "import pandas as pd\n",
    "import numpy as np\n",
    "import seaborn as sns\n",
    "import matplotlib\n",
    "import matplotlib.pyplot as plt\n",
    "import os\n",
    "import sklearn\n",
    "from sklearn.cluster import KMeans \n",
    "import pylab as pl \n",
    "import scipy\n",
    "from scipy import stats"
   ]
  },
  {
   "cell_type": "code",
   "execution_count": 2,
   "id": "6211c1ed",
   "metadata": {},
   "outputs": [
    {
     "data": {
      "text/html": [
       "<div>\n",
       "<style scoped>\n",
       "    .dataframe tbody tr th:only-of-type {\n",
       "        vertical-align: middle;\n",
       "    }\n",
       "\n",
       "    .dataframe tbody tr th {\n",
       "        vertical-align: top;\n",
       "    }\n",
       "\n",
       "    .dataframe thead th {\n",
       "        text-align: right;\n",
       "    }\n",
       "</style>\n",
       "<table border=\"1\" class=\"dataframe\">\n",
       "  <thead>\n",
       "    <tr style=\"text-align: right;\">\n",
       "      <th></th>\n",
       "      <th>v_inc_rate</th>\n",
       "      <th>total_laws</th>\n",
       "    </tr>\n",
       "  </thead>\n",
       "  <tbody>\n",
       "    <tr>\n",
       "      <th>0</th>\n",
       "      <td>14.03</td>\n",
       "      <td>5.0</td>\n",
       "    </tr>\n",
       "    <tr>\n",
       "      <th>1</th>\n",
       "      <td>16.70</td>\n",
       "      <td>12.0</td>\n",
       "    </tr>\n",
       "    <tr>\n",
       "      <th>2</th>\n",
       "      <td>9.08</td>\n",
       "      <td>15.0</td>\n",
       "    </tr>\n",
       "    <tr>\n",
       "      <th>3</th>\n",
       "      <td>19.73</td>\n",
       "      <td>2.0</td>\n",
       "    </tr>\n",
       "    <tr>\n",
       "      <th>4</th>\n",
       "      <td>18.47</td>\n",
       "      <td>3.0</td>\n",
       "    </tr>\n",
       "  </tbody>\n",
       "</table>\n",
       "</div>"
      ],
      "text/plain": [
       "   v_inc_rate  total_laws\n",
       "0       14.03         5.0\n",
       "1       16.70        12.0\n",
       "2        9.08        15.0\n",
       "3       19.73         2.0\n",
       "4       18.47         3.0"
      ]
     },
     "execution_count": 2,
     "metadata": {},
     "output_type": "execute_result"
    }
   ],
   "source": [
    "#import data\n",
    "\n",
    "path = r'/Users/juliewhitton/Desktop/Personal Project/'\n",
    "df = pd.read_csv(os.path.join(path, 'Data', 'Final Data', 'incidents_final.csv'), \n",
    "                 usecols = ['total_laws','v_inc_rate'])\n",
    "df.head()\n",
    "                         "
   ]
  },
  {
   "cell_type": "code",
   "execution_count": 3,
   "id": "f28ae400",
   "metadata": {},
   "outputs": [
    {
     "data": {
      "text/html": [
       "<div>\n",
       "<style scoped>\n",
       "    .dataframe tbody tr th:only-of-type {\n",
       "        vertical-align: middle;\n",
       "    }\n",
       "\n",
       "    .dataframe tbody tr th {\n",
       "        vertical-align: top;\n",
       "    }\n",
       "\n",
       "    .dataframe thead th {\n",
       "        text-align: right;\n",
       "    }\n",
       "</style>\n",
       "<table border=\"1\" class=\"dataframe\">\n",
       "  <thead>\n",
       "    <tr style=\"text-align: right;\">\n",
       "      <th></th>\n",
       "      <th>v_inc_rate</th>\n",
       "      <th>total_laws</th>\n",
       "    </tr>\n",
       "  </thead>\n",
       "  <tbody>\n",
       "    <tr>\n",
       "      <th>0</th>\n",
       "      <td>-0.389320</td>\n",
       "      <td>-0.280668</td>\n",
       "    </tr>\n",
       "    <tr>\n",
       "      <th>1</th>\n",
       "      <td>-0.185988</td>\n",
       "      <td>1.574860</td>\n",
       "    </tr>\n",
       "    <tr>\n",
       "      <th>2</th>\n",
       "      <td>-0.766284</td>\n",
       "      <td>2.370087</td>\n",
       "    </tr>\n",
       "    <tr>\n",
       "      <th>3</th>\n",
       "      <td>0.044759</td>\n",
       "      <td>-1.075895</td>\n",
       "    </tr>\n",
       "    <tr>\n",
       "      <th>4</th>\n",
       "      <td>-0.051195</td>\n",
       "      <td>-0.810819</td>\n",
       "    </tr>\n",
       "  </tbody>\n",
       "</table>\n",
       "</div>"
      ],
      "text/plain": [
       "   v_inc_rate  total_laws\n",
       "0   -0.389320   -0.280668\n",
       "1   -0.185988    1.574860\n",
       "2   -0.766284    2.370087\n",
       "3    0.044759   -1.075895\n",
       "4   -0.051195   -0.810819"
      ]
     },
     "execution_count": 3,
     "metadata": {},
     "output_type": "execute_result"
    }
   ],
   "source": [
    "#standardize data\n",
    "\n",
    "df = stats.zscore(df)\n",
    "df.head()"
   ]
  },
  {
   "cell_type": "code",
   "execution_count": 4,
   "id": "43e362c0",
   "metadata": {},
   "outputs": [
    {
     "data": {
      "text/plain": [
       "v_inc_rate    0\n",
       "total_laws    0\n",
       "dtype: int64"
      ]
     },
     "execution_count": 4,
     "metadata": {},
     "output_type": "execute_result"
    }
   ],
   "source": [
    "df.isna().sum()"
   ]
  },
  {
   "cell_type": "code",
   "execution_count": 5,
   "id": "bb1ca7ce",
   "metadata": {},
   "outputs": [],
   "source": [
    "#determine no of clusters\n",
    "\n",
    "num_cl = range(1, 10)\n",
    "kmeans = [KMeans(n_clusters = i) for i in num_cl]"
   ]
  },
  {
   "cell_type": "code",
   "execution_count": 6,
   "id": "2e3dbbb7",
   "metadata": {},
   "outputs": [
    {
     "data": {
      "text/plain": [
       "[-407.99999999999983,\n",
       " -251.67467760941474,\n",
       " -149.0227363501929,\n",
       " -108.91885092159359,\n",
       " -72.31557750399205,\n",
       " -60.530094557922936,\n",
       " -49.03557877875322,\n",
       " -39.4197717444937,\n",
       " -32.92752394627835]"
      ]
     },
     "execution_count": 6,
     "metadata": {},
     "output_type": "execute_result"
    }
   ],
   "source": [
    "#create cluster scores\n",
    "\n",
    "score = [kmeans[i].fit(df).score(df) for i in range(len(kmeans))] \n",
    "score"
   ]
  },
  {
   "cell_type": "code",
   "execution_count": 7,
   "id": "b03436f6",
   "metadata": {},
   "outputs": [
    {
     "data": {
      "image/png": "[encoded data removed]",
      "text/plain": [
       "<Figure size 640x480 with 1 Axes>"
      ]
     },
     "metadata": {},
     "output_type": "display_data"
    }
   ],
   "source": [
    "#create plot\n",
    "\n",
    "pl.plot(num_cl,score)\n",
    "pl.xlabel('Number of Clusters')\n",
    "pl.ylabel('Score')\n",
    "pl.title('Elbow Curve')\n",
    "pl.show()"
   ]
  },
  {
   "cell_type": "code",
   "execution_count": 8,
   "id": "50078d4a",
   "metadata": {},
   "outputs": [
    {
     "data": {
      "text/plain": [
       "KMeans(n_clusters=5)"
      ]
     },
     "execution_count": 8,
     "metadata": {},
     "output_type": "execute_result"
    }
   ],
   "source": [
    "#assign no of clusters and apply algo\n",
    "\n",
    "kmeans = KMeans(n_clusters = 5)\n",
    "kmeans.fit(df)"
   ]
  },
  {
   "cell_type": "code",
   "execution_count": 9,
   "id": "e02c951e",
   "metadata": {},
   "outputs": [
    {
     "data": {
      "text/html": [
       "<div>\n",
       "<style scoped>\n",
       "    .dataframe tbody tr th:only-of-type {\n",
       "        vertical-align: middle;\n",
       "    }\n",
       "\n",
       "    .dataframe tbody tr th {\n",
       "        vertical-align: top;\n",
       "    }\n",
       "\n",
       "    .dataframe thead th {\n",
       "        text-align: right;\n",
       "    }\n",
       "</style>\n",
       "<table border=\"1\" class=\"dataframe\">\n",
       "  <thead>\n",
       "    <tr style=\"text-align: right;\">\n",
       "      <th></th>\n",
       "      <th>v_inc_rate</th>\n",
       "      <th>total_laws</th>\n",
       "      <th>clusters</th>\n",
       "    </tr>\n",
       "  </thead>\n",
       "  <tbody>\n",
       "    <tr>\n",
       "      <th>0</th>\n",
       "      <td>-0.389320</td>\n",
       "      <td>-0.280668</td>\n",
       "      <td>1</td>\n",
       "    </tr>\n",
       "    <tr>\n",
       "      <th>1</th>\n",
       "      <td>-0.185988</td>\n",
       "      <td>1.574860</td>\n",
       "      <td>0</td>\n",
       "    </tr>\n",
       "    <tr>\n",
       "      <th>2</th>\n",
       "      <td>-0.766284</td>\n",
       "      <td>2.370087</td>\n",
       "      <td>0</td>\n",
       "    </tr>\n",
       "    <tr>\n",
       "      <th>3</th>\n",
       "      <td>0.044759</td>\n",
       "      <td>-1.075895</td>\n",
       "      <td>3</td>\n",
       "    </tr>\n",
       "    <tr>\n",
       "      <th>4</th>\n",
       "      <td>-0.051195</td>\n",
       "      <td>-0.810819</td>\n",
       "      <td>3</td>\n",
       "    </tr>\n",
       "  </tbody>\n",
       "</table>\n",
       "</div>"
      ],
      "text/plain": [
       "   v_inc_rate  total_laws  clusters\n",
       "0   -0.389320   -0.280668         1\n",
       "1   -0.185988    1.574860         0\n",
       "2   -0.766284    2.370087         0\n",
       "3    0.044759   -1.075895         3\n",
       "4   -0.051195   -0.810819         3"
      ]
     },
     "execution_count": 9,
     "metadata": {},
     "output_type": "execute_result"
    }
   ],
   "source": [
    "#create cluster col \n",
    "\n",
    "df['clusters'] = kmeans.fit_predict(df)\n",
    "df.head()"
   ]
  },
  {
   "cell_type": "code",
   "execution_count": 10,
   "id": "e1232201",
   "metadata": {},
   "outputs": [
    {
     "data": {
      "text/plain": [
       "3    77\n",
       "1    71\n",
       "0    30\n",
       "4    22\n",
       "2     4\n",
       "Name: clusters, dtype: int64"
      ]
     },
     "execution_count": 10,
     "metadata": {},
     "output_type": "execute_result"
    }
   ],
   "source": [
    "#check value counts\n",
    "\n",
    "df['clusters'].value_counts()"
   ]
  },
  {
   "cell_type": "code",
   "execution_count": 11,
   "id": "20452fcf",
   "metadata": {},
   "outputs": [
    {
     "data": {
      "image/png": "[encoded data removed]",
      "text/plain": [
       "<Figure size 1200x800 with 1 Axes>"
      ]
     },
     "metadata": {},
     "output_type": "display_data"
    }
   ],
   "source": [
    "#create plot w/v_inc_rate and total_laws\n",
    "\n",
    "plt.figure(figsize=(12,8))\n",
    "ax = sns.scatterplot(x = df['total_laws'], y = df['v_inc_rate'], hue = kmeans.labels_, s = 100) \n",
    "\n",
    "ax.grid(False)\n",
    "plt.xlabel('Total Laws') # Label x-axis.\n",
    "plt.ylabel('Incident Rate') # Label y-axis.\n",
    "plt.show()"
   ]
  },
  {
   "cell_type": "code",
   "execution_count": 12,
   "id": "a55d0b80",
   "metadata": {},
   "outputs": [],
   "source": [
    "df.loc[df['clusters'] == 4, 'cluster'] = 'dark blue'\n",
    "df.loc[df['clusters'] == 3, 'cluster'] = 'purple'\n",
    "df.loc[df['clusters'] == 2, 'cluster'] = 'light purple'\n",
    "df.loc[df['clusters'] == 1, 'cluster'] = 'pink'\n",
    "df.loc[df['clusters'] == 0, 'cluster'] = 'light pink'"
   ]
  },
  {
   "cell_type": "code",
   "execution_count": 13,
   "id": "12355ba1",
   "metadata": {},
   "outputs": [
    {
     "data": {
      "text/html": [
       "<div>\n",
       "<style scoped>\n",
       "    .dataframe tbody tr th:only-of-type {\n",
       "        vertical-align: middle;\n",
       "    }\n",
       "\n",
       "    .dataframe tbody tr th {\n",
       "        vertical-align: top;\n",
       "    }\n",
       "\n",
       "    .dataframe thead tr th {\n",
       "        text-align: left;\n",
       "    }\n",
       "\n",
       "    .dataframe thead tr:last-of-type th {\n",
       "        text-align: right;\n",
       "    }\n",
       "</style>\n",
       "<table border=\"1\" class=\"dataframe\">\n",
       "  <thead>\n",
       "    <tr>\n",
       "      <th></th>\n",
       "      <th colspan=\"2\" halign=\"left\">total_laws</th>\n",
       "      <th colspan=\"2\" halign=\"left\">v_inc_rate</th>\n",
       "    </tr>\n",
       "    <tr>\n",
       "      <th></th>\n",
       "      <th>mean</th>\n",
       "      <th>median</th>\n",
       "      <th>mean</th>\n",
       "      <th>median</th>\n",
       "    </tr>\n",
       "    <tr>\n",
       "      <th>cluster</th>\n",
       "      <th></th>\n",
       "      <th></th>\n",
       "      <th></th>\n",
       "      <th></th>\n",
       "    </tr>\n",
       "  </thead>\n",
       "  <tbody>\n",
       "    <tr>\n",
       "      <th>dark blue</th>\n",
       "      <td>-0.075837</td>\n",
       "      <td>-0.280668</td>\n",
       "      <td>1.306913</td>\n",
       "      <td>1.134147</td>\n",
       "    </tr>\n",
       "    <tr>\n",
       "      <th>light pink</th>\n",
       "      <td>1.804592</td>\n",
       "      <td>1.839936</td>\n",
       "      <td>-0.416152</td>\n",
       "      <td>-0.459763</td>\n",
       "    </tr>\n",
       "    <tr>\n",
       "      <th>light purple</th>\n",
       "      <td>2.105011</td>\n",
       "      <td>2.105011</td>\n",
       "      <td>5.158522</td>\n",
       "      <td>4.420586</td>\n",
       "    </tr>\n",
       "    <tr>\n",
       "      <th>pink</th>\n",
       "      <td>0.103878</td>\n",
       "      <td>0.249483</td>\n",
       "      <td>-0.305872</td>\n",
       "      <td>-0.288797</td>\n",
       "    </tr>\n",
       "    <tr>\n",
       "      <th>purple</th>\n",
       "      <td>-0.886555</td>\n",
       "      <td>-0.810819</td>\n",
       "      <td>-0.197204</td>\n",
       "      <td>-0.142580</td>\n",
       "    </tr>\n",
       "  </tbody>\n",
       "</table>\n",
       "</div>"
      ],
      "text/plain": [
       "             total_laws           v_inc_rate          \n",
       "                   mean    median       mean    median\n",
       "cluster                                               \n",
       "dark blue     -0.075837 -0.280668   1.306913  1.134147\n",
       "light pink     1.804592  1.839936  -0.416152 -0.459763\n",
       "light purple   2.105011  2.105011   5.158522  4.420586\n",
       "pink           0.103878  0.249483  -0.305872 -0.288797\n",
       "purple        -0.886555 -0.810819  -0.197204 -0.142580"
      ]
     },
     "execution_count": 13,
     "metadata": {},
     "output_type": "execute_result"
    }
   ],
   "source": [
    "df_stats = df.groupby('cluster').agg({'total_laws':['mean', 'median'], 'v_inc_rate':['mean', 'median']})\n",
    "df_stats"
   ]
  },
  {
   "cell_type": "code",
   "execution_count": null,
   "id": "aa7f4eda",
   "metadata": {},
   "outputs": [],
   "source": []
  }
 ],
 "metadata": {
  "kernelspec": {
   "display_name": "Python 3 (ipykernel)",
   "language": "python",
   "name": "python3"
  },
  "language_info": {
   "codemirror_mode": {
    "name": "ipython",
    "version": 3
   },
   "file_extension": ".py",
   "mimetype": "text/x-python",
   "name": "python",
   "nbconvert_exporter": "python",
   "pygments_lexer": "ipython3",
   "version": "3.9.13"
  }
 },
 "nbformat": 4,
 "nbformat_minor": 5
}
