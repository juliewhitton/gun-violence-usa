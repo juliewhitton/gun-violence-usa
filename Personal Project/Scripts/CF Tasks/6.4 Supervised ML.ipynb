{
 "cells": [
  {
   "cell_type": "markdown",
   "id": "c79640e7",
   "metadata": {},
   "source": [
    "## 01. Import Libraries and Data"
   ]
  },
  {
   "cell_type": "code",
   "execution_count": 1,
   "id": "a6af7cab",
   "metadata": {},
   "outputs": [],
   "source": [
    "import pandas as pd\n",
    "import numpy as np\n",
    "import seaborn as sns\n",
    "import matplotlib\n",
    "import matplotlib.pyplot as plt\n",
    "import os\n",
    "import sklearn\n",
    "from sklearn.model_selection import train_test_split \n",
    "from sklearn.linear_model import LinearRegression\n",
    "from sklearn.metrics import mean_squared_error, r2_score"
   ]
  },
  {
   "cell_type": "code",
   "execution_count": 2,
   "id": "feff245e",
   "metadata": {},
   "outputs": [],
   "source": [
    "#charts are displayed without needing to be called\n",
    "\n",
    "%matplotlib inline"
   ]
  },
  {
   "cell_type": "code",
   "execution_count": 11,
   "id": "35c42fab",
   "metadata": {},
   "outputs": [
    {
     "data": {
      "text/html": [
       "<div>\n",
       "<style scoped>\n",
       "    .dataframe tbody tr th:only-of-type {\n",
       "        vertical-align: middle;\n",
       "    }\n",
       "\n",
       "    .dataframe tbody tr th {\n",
       "        vertical-align: top;\n",
       "    }\n",
       "\n",
       "    .dataframe thead th {\n",
       "        text-align: right;\n",
       "    }\n",
       "</style>\n",
       "<table border=\"1\" class=\"dataframe\">\n",
       "  <thead>\n",
       "    <tr style=\"text-align: right;\">\n",
       "      <th></th>\n",
       "      <th>incident_id</th>\n",
       "      <th>state</th>\n",
       "      <th>year</th>\n",
       "      <th>n_killed</th>\n",
       "      <th>n_injured</th>\n",
       "      <th>n_guns_involved</th>\n",
       "      <th>latitude</th>\n",
       "      <th>longitude</th>\n",
       "      <th>notes</th>\n",
       "      <th>inc_rate</th>\n",
       "    </tr>\n",
       "  </thead>\n",
       "  <tbody>\n",
       "    <tr>\n",
       "      <th>0</th>\n",
       "      <td>95289</td>\n",
       "      <td>MI</td>\n",
       "      <td>2014</td>\n",
       "      <td>0</td>\n",
       "      <td>0</td>\n",
       "      <td>NaN</td>\n",
       "      <td>43.2301</td>\n",
       "      <td>-86.2514</td>\n",
       "      <td>bullets entered home</td>\n",
       "      <td>14.572227</td>\n",
       "    </tr>\n",
       "    <tr>\n",
       "      <th>1</th>\n",
       "      <td>92607</td>\n",
       "      <td>MI</td>\n",
       "      <td>2014</td>\n",
       "      <td>0</td>\n",
       "      <td>1</td>\n",
       "      <td>NaN</td>\n",
       "      <td>42.4142</td>\n",
       "      <td>-82.9582</td>\n",
       "      <td>NaN</td>\n",
       "      <td>14.572227</td>\n",
       "    </tr>\n",
       "    <tr>\n",
       "      <th>2</th>\n",
       "      <td>92602</td>\n",
       "      <td>MI</td>\n",
       "      <td>2014</td>\n",
       "      <td>2</td>\n",
       "      <td>2</td>\n",
       "      <td>NaN</td>\n",
       "      <td>42.3484</td>\n",
       "      <td>-83.0597</td>\n",
       "      <td>NaN</td>\n",
       "      <td>14.572227</td>\n",
       "    </tr>\n",
       "    <tr>\n",
       "      <th>3</th>\n",
       "      <td>92620</td>\n",
       "      <td>MI</td>\n",
       "      <td>2014</td>\n",
       "      <td>0</td>\n",
       "      <td>2</td>\n",
       "      <td>NaN</td>\n",
       "      <td>42.3756</td>\n",
       "      <td>-83.0643</td>\n",
       "      <td>2 men shot by drunk perp @ party.</td>\n",
       "      <td>14.572227</td>\n",
       "    </tr>\n",
       "    <tr>\n",
       "      <th>4</th>\n",
       "      <td>92612</td>\n",
       "      <td>MI</td>\n",
       "      <td>2014</td>\n",
       "      <td>0</td>\n",
       "      <td>1</td>\n",
       "      <td>NaN</td>\n",
       "      <td>42.3727</td>\n",
       "      <td>-83.1921</td>\n",
       "      <td>NaN</td>\n",
       "      <td>14.572227</td>\n",
       "    </tr>\n",
       "  </tbody>\n",
       "</table>\n",
       "</div>"
      ],
      "text/plain": [
       "   incident_id state  year  n_killed  n_injured  n_guns_involved  latitude  \\\n",
       "0        95289    MI  2014         0          0              NaN   43.2301   \n",
       "1        92607    MI  2014         0          1              NaN   42.4142   \n",
       "2        92602    MI  2014         2          2              NaN   42.3484   \n",
       "3        92620    MI  2014         0          2              NaN   42.3756   \n",
       "4        92612    MI  2014         0          1              NaN   42.3727   \n",
       "\n",
       "   longitude                              notes   inc_rate  \n",
       "0   -86.2514               bullets entered home  14.572227  \n",
       "1   -82.9582                                NaN  14.572227  \n",
       "2   -83.0597                                NaN  14.572227  \n",
       "3   -83.0643  2 men shot by drunk perp @ party.  14.572227  \n",
       "4   -83.1921                                NaN  14.572227  "
      ]
     },
     "execution_count": 11,
     "metadata": {},
     "output_type": "execute_result"
    }
   ],
   "source": [
    "path = r'/Users/juliewhitton/Desktop/Personal Project/'\n",
    "\n",
    "df_inc = pd.read_csv(os.path.join(path, 'Data', 'Final Data', 'incidents_final.csv'))\n",
    "df_inc.head()                          "
   ]
  },
  {
   "cell_type": "code",
   "execution_count": 12,
   "id": "9df3a4c1",
   "metadata": {},
   "outputs": [
    {
     "data": {
      "text/html": [
       "<div>\n",
       "<style scoped>\n",
       "    .dataframe tbody tr th:only-of-type {\n",
       "        vertical-align: middle;\n",
       "    }\n",
       "\n",
       "    .dataframe tbody tr th {\n",
       "        vertical-align: top;\n",
       "    }\n",
       "\n",
       "    .dataframe thead th {\n",
       "        text-align: right;\n",
       "    }\n",
       "</style>\n",
       "<table border=\"1\" class=\"dataframe\">\n",
       "  <thead>\n",
       "    <tr style=\"text-align: right;\">\n",
       "      <th></th>\n",
       "      <th>incident_id</th>\n",
       "      <th>state</th>\n",
       "      <th>year</th>\n",
       "      <th>n_killed</th>\n",
       "      <th>n_injured</th>\n",
       "      <th>n_guns_involved</th>\n",
       "      <th>latitude</th>\n",
       "      <th>longitude</th>\n",
       "      <th>notes</th>\n",
       "      <th>inc_rate</th>\n",
       "    </tr>\n",
       "  </thead>\n",
       "  <tbody>\n",
       "    <tr>\n",
       "      <th>0</th>\n",
       "      <td>95289</td>\n",
       "      <td>MI</td>\n",
       "      <td>2014</td>\n",
       "      <td>0</td>\n",
       "      <td>0</td>\n",
       "      <td>NaN</td>\n",
       "      <td>43.2301</td>\n",
       "      <td>-86.2514</td>\n",
       "      <td>bullets entered home</td>\n",
       "      <td>14.572227</td>\n",
       "    </tr>\n",
       "    <tr>\n",
       "      <th>1</th>\n",
       "      <td>92607</td>\n",
       "      <td>MI</td>\n",
       "      <td>2014</td>\n",
       "      <td>0</td>\n",
       "      <td>1</td>\n",
       "      <td>NaN</td>\n",
       "      <td>42.4142</td>\n",
       "      <td>-82.9582</td>\n",
       "      <td>NaN</td>\n",
       "      <td>14.572227</td>\n",
       "    </tr>\n",
       "    <tr>\n",
       "      <th>2</th>\n",
       "      <td>92602</td>\n",
       "      <td>MI</td>\n",
       "      <td>2014</td>\n",
       "      <td>2</td>\n",
       "      <td>2</td>\n",
       "      <td>NaN</td>\n",
       "      <td>42.3484</td>\n",
       "      <td>-83.0597</td>\n",
       "      <td>NaN</td>\n",
       "      <td>14.572227</td>\n",
       "    </tr>\n",
       "    <tr>\n",
       "      <th>3</th>\n",
       "      <td>92620</td>\n",
       "      <td>MI</td>\n",
       "      <td>2014</td>\n",
       "      <td>0</td>\n",
       "      <td>2</td>\n",
       "      <td>NaN</td>\n",
       "      <td>42.3756</td>\n",
       "      <td>-83.0643</td>\n",
       "      <td>2 men shot by drunk perp @ party.</td>\n",
       "      <td>14.572227</td>\n",
       "    </tr>\n",
       "    <tr>\n",
       "      <th>4</th>\n",
       "      <td>92612</td>\n",
       "      <td>MI</td>\n",
       "      <td>2014</td>\n",
       "      <td>0</td>\n",
       "      <td>1</td>\n",
       "      <td>NaN</td>\n",
       "      <td>42.3727</td>\n",
       "      <td>-83.1921</td>\n",
       "      <td>NaN</td>\n",
       "      <td>14.572227</td>\n",
       "    </tr>\n",
       "  </tbody>\n",
       "</table>\n",
       "</div>"
      ],
      "text/plain": [
       "   incident_id state  year  n_killed  n_injured  n_guns_involved  latitude  \\\n",
       "0        95289    MI  2014         0          0              NaN   43.2301   \n",
       "1        92607    MI  2014         0          1              NaN   42.4142   \n",
       "2        92602    MI  2014         2          2              NaN   42.3484   \n",
       "3        92620    MI  2014         0          2              NaN   42.3756   \n",
       "4        92612    MI  2014         0          1              NaN   42.3727   \n",
       "\n",
       "   longitude                              notes   inc_rate  \n",
       "0   -86.2514               bullets entered home  14.572227  \n",
       "1   -82.9582                                NaN  14.572227  \n",
       "2   -83.0597                                NaN  14.572227  \n",
       "3   -83.0643  2 men shot by drunk perp @ party.  14.572227  \n",
       "4   -83.1921                                NaN  14.572227  "
      ]
     },
     "execution_count": 12,
     "metadata": {},
     "output_type": "execute_result"
    }
   ],
   "source": [
    "df_2014 = df_inc.loc[(df_inc['year'] == 2014)].reset_index(drop = True)\n",
    "df_2014.head()"
   ]
  },
  {
   "cell_type": "code",
   "execution_count": 13,
   "id": "e6ca353b",
   "metadata": {},
   "outputs": [
    {
     "data": {
      "text/plain": [
       "(51854, 10)"
      ]
     },
     "execution_count": 13,
     "metadata": {},
     "output_type": "execute_result"
    }
   ],
   "source": [
    "df_2014.shape"
   ]
  },
  {
   "cell_type": "code",
   "execution_count": 19,
   "id": "cb6485e3",
   "metadata": {},
   "outputs": [
    {
     "data": {
      "text/plain": [
       "incident_id            0\n",
       "state                  0\n",
       "year                   0\n",
       "n_killed               0\n",
       "n_injured              0\n",
       "n_guns_involved    46037\n",
       "latitude             158\n",
       "longitude            158\n",
       "notes              16720\n",
       "inc_rate               0\n",
       "dtype: int64"
      ]
     },
     "execution_count": 19,
     "metadata": {},
     "output_type": "execute_result"
    }
   ],
   "source": [
    "df_2014.isna().sum()"
   ]
  },
  {
   "cell_type": "code",
   "execution_count": 21,
   "id": "b4dc989f",
   "metadata": {},
   "outputs": [
    {
     "data": {
      "text/plain": [
       "(51696, 10)"
      ]
     },
     "execution_count": 21,
     "metadata": {},
     "output_type": "execute_result"
    }
   ],
   "source": [
    "#Drop NaN values from longitude col and reset index after drop\n",
    "df_reg_14 = df_2014.dropna(subset = ['longitude']).reset_index(drop=True)\n",
    "df_reg_14.shape"
   ]
  },
  {
   "cell_type": "code",
   "execution_count": 23,
   "id": "6783f46a",
   "metadata": {},
   "outputs": [
    {
     "data": {
      "text/plain": [
       "<seaborn.axisgrid.FacetGrid at 0x7f7dff6bf7c0>"
      ]
     },
     "execution_count": 23,
     "metadata": {},
     "output_type": "execute_result"
    },
    {
     "data": {
      "image/png": "[encoded data removed]",
      "text/plain": [
       "<Figure size 500x500 with 1 Axes>"
      ]
     },
     "metadata": {},
     "output_type": "display_data"
    }
   ],
   "source": [
    "sns.lmplot(x = 'longitude', y = 'inc_rate', data = df_reg_14)"
   ]
  },
  {
   "cell_type": "markdown",
   "id": "c7b25f03",
   "metadata": {},
   "source": [
    "Hypothesis:\n",
    "The incident rate increases from West to East across the United States."
   ]
  },
  {
   "cell_type": "code",
   "execution_count": 24,
   "id": "3aa40d11",
   "metadata": {},
   "outputs": [],
   "source": [
    "#turn data into Numpy arrays\n",
    "\n",
    "X = df_reg_14['longitude'].values.reshape(-1, 1)\n",
    "y = df_reg_14['inc_rate'].values.reshape(-1, 1)"
   ]
  },
  {
   "cell_type": "code",
   "execution_count": 25,
   "id": "849aff82",
   "metadata": {},
   "outputs": [],
   "source": [
    "#create training and test sets\n",
    "\n",
    "X_train, X_test, y_train, y_test = train_test_split(X, y, test_size = 0.3, random_state = 0)"
   ]
  },
  {
   "cell_type": "code",
   "execution_count": 26,
   "id": "ed67eeae",
   "metadata": {},
   "outputs": [
    {
     "data": {
      "text/plain": [
       "LinearRegression()"
      ]
     },
     "execution_count": 26,
     "metadata": {},
     "output_type": "execute_result"
    }
   ],
   "source": [
    "#run regression\n",
    "\n",
    "regression = LinearRegression()\n",
    "\n",
    "regression.fit(X_train, y_train)"
   ]
  },
  {
   "cell_type": "code",
   "execution_count": 27,
   "id": "65e1228a",
   "metadata": {},
   "outputs": [],
   "source": [
    "#test for y values\n",
    "\n",
    "y_predicted = regression.predict(X_test)"
   ]
  },
  {
   "cell_type": "code",
   "execution_count": 28,
   "id": "dab0d87b",
   "metadata": {},
   "outputs": [
    {
     "data": {
      "image/png": "[encoded data removed]",
      "text/plain": [
       "<Figure size 640x480 with 1 Axes>"
      ]
     },
     "metadata": {},
     "output_type": "display_data"
    }
   ],
   "source": [
    "#create scatterplot to see results\n",
    "\n",
    "plot_test = plt\n",
    "plot_test.scatter(X_test, y_test, color='gray', s = 15)\n",
    "plot_test.plot(X_test, y_predicted, color='red', linewidth =3)\n",
    "plot_test.title('Longitudinal Location vs Incident Rate (Test set)')\n",
    "plot_test.xlabel('Longitude')\n",
    "plot_test.ylabel('Incident Rate')\n",
    "plot_test.show()"
   ]
  },
  {
   "cell_type": "markdown",
   "id": "b3bc7d79",
   "metadata": {},
   "source": [
    "At first glance, the line appears to fit the data fairly well."
   ]
  },
  {
   "cell_type": "code",
   "execution_count": 30,
   "id": "c88e09b0",
   "metadata": {},
   "outputs": [
    {
     "name": "stdout",
     "output_type": "stream",
     "text": [
      "Slope:  [[0.31437135]]\n",
      "Mean squared error:  219.16113572684725\n",
      "R2 score:  0.07430848767683484\n"
     ]
    }
   ],
   "source": [
    "#check model summary stats\n",
    "\n",
    "rmse = mean_squared_error(y_test, y_predicted) \n",
    "r2 = r2_score(y_test, y_predicted) \n",
    "\n",
    "print('Slope: ', regression.coef_)\n",
    "print('Mean squared error: ', rmse)\n",
    "print('R2 score: ', r2)"
   ]
  },
  {
   "cell_type": "code",
   "execution_count": 31,
   "id": "15d929fb",
   "metadata": {},
   "outputs": [
    {
     "data": {
      "text/html": [
       "<div>\n",
       "<style scoped>\n",
       "    .dataframe tbody tr th:only-of-type {\n",
       "        vertical-align: middle;\n",
       "    }\n",
       "\n",
       "    .dataframe tbody tr th {\n",
       "        vertical-align: top;\n",
       "    }\n",
       "\n",
       "    .dataframe thead th {\n",
       "        text-align: right;\n",
       "    }\n",
       "</style>\n",
       "<table border=\"1\" class=\"dataframe\">\n",
       "  <thead>\n",
       "    <tr style=\"text-align: right;\">\n",
       "      <th></th>\n",
       "      <th>Actual</th>\n",
       "      <th>Predicted</th>\n",
       "    </tr>\n",
       "  </thead>\n",
       "  <tbody>\n",
       "    <tr>\n",
       "      <th>0</th>\n",
       "      <td>9.669152</td>\n",
       "      <td>10.227959</td>\n",
       "    </tr>\n",
       "    <tr>\n",
       "      <th>1</th>\n",
       "      <td>20.409043</td>\n",
       "      <td>22.072654</td>\n",
       "    </tr>\n",
       "    <tr>\n",
       "      <th>2</th>\n",
       "      <td>26.216632</td>\n",
       "      <td>20.749277</td>\n",
       "    </tr>\n",
       "    <tr>\n",
       "      <th>3</th>\n",
       "      <td>18.244843</td>\n",
       "      <td>21.547717</td>\n",
       "    </tr>\n",
       "    <tr>\n",
       "      <th>4</th>\n",
       "      <td>21.003262</td>\n",
       "      <td>20.262975</td>\n",
       "    </tr>\n",
       "    <tr>\n",
       "      <th>5</th>\n",
       "      <td>15.811821</td>\n",
       "      <td>22.941671</td>\n",
       "    </tr>\n",
       "    <tr>\n",
       "      <th>6</th>\n",
       "      <td>15.317063</td>\n",
       "      <td>24.302302</td>\n",
       "    </tr>\n",
       "    <tr>\n",
       "      <th>7</th>\n",
       "      <td>19.276186</td>\n",
       "      <td>20.136598</td>\n",
       "    </tr>\n",
       "    <tr>\n",
       "      <th>8</th>\n",
       "      <td>41.042090</td>\n",
       "      <td>20.333300</td>\n",
       "    </tr>\n",
       "    <tr>\n",
       "      <th>9</th>\n",
       "      <td>11.619052</td>\n",
       "      <td>18.633589</td>\n",
       "    </tr>\n",
       "    <tr>\n",
       "      <th>10</th>\n",
       "      <td>21.796281</td>\n",
       "      <td>24.142444</td>\n",
       "    </tr>\n",
       "    <tr>\n",
       "      <th>11</th>\n",
       "      <td>21.796281</td>\n",
       "      <td>23.523321</td>\n",
       "    </tr>\n",
       "    <tr>\n",
       "      <th>12</th>\n",
       "      <td>11.619052</td>\n",
       "      <td>16.640820</td>\n",
       "    </tr>\n",
       "    <tr>\n",
       "      <th>13</th>\n",
       "      <td>34.414009</td>\n",
       "      <td>23.205208</td>\n",
       "    </tr>\n",
       "    <tr>\n",
       "      <th>14</th>\n",
       "      <td>18.516828</td>\n",
       "      <td>20.998887</td>\n",
       "    </tr>\n",
       "    <tr>\n",
       "      <th>15</th>\n",
       "      <td>9.683961</td>\n",
       "      <td>25.433064</td>\n",
       "    </tr>\n",
       "    <tr>\n",
       "      <th>16</th>\n",
       "      <td>18.516828</td>\n",
       "      <td>20.992097</td>\n",
       "    </tr>\n",
       "    <tr>\n",
       "      <th>17</th>\n",
       "      <td>126.523414</td>\n",
       "      <td>24.442574</td>\n",
       "    </tr>\n",
       "    <tr>\n",
       "      <th>18</th>\n",
       "      <td>14.572227</td>\n",
       "      <td>22.349332</td>\n",
       "    </tr>\n",
       "    <tr>\n",
       "      <th>19</th>\n",
       "      <td>41.042090</td>\n",
       "      <td>20.323240</td>\n",
       "    </tr>\n",
       "    <tr>\n",
       "      <th>20</th>\n",
       "      <td>24.021124</td>\n",
       "      <td>21.099329</td>\n",
       "    </tr>\n",
       "    <tr>\n",
       "      <th>21</th>\n",
       "      <td>27.221287</td>\n",
       "      <td>21.074682</td>\n",
       "    </tr>\n",
       "    <tr>\n",
       "      <th>22</th>\n",
       "      <td>41.042090</td>\n",
       "      <td>19.994062</td>\n",
       "    </tr>\n",
       "    <tr>\n",
       "      <th>23</th>\n",
       "      <td>19.276186</td>\n",
       "      <td>19.384370</td>\n",
       "    </tr>\n",
       "    <tr>\n",
       "      <th>24</th>\n",
       "      <td>20.409043</td>\n",
       "      <td>23.066759</td>\n",
       "    </tr>\n",
       "    <tr>\n",
       "      <th>25</th>\n",
       "      <td>9.683961</td>\n",
       "      <td>23.866646</td>\n",
       "    </tr>\n",
       "    <tr>\n",
       "      <th>26</th>\n",
       "      <td>24.021124</td>\n",
       "      <td>21.099738</td>\n",
       "    </tr>\n",
       "    <tr>\n",
       "      <th>27</th>\n",
       "      <td>16.219116</td>\n",
       "      <td>25.691666</td>\n",
       "    </tr>\n",
       "    <tr>\n",
       "      <th>28</th>\n",
       "      <td>16.219116</td>\n",
       "      <td>25.723983</td>\n",
       "    </tr>\n",
       "    <tr>\n",
       "      <th>29</th>\n",
       "      <td>8.255246</td>\n",
       "      <td>19.316466</td>\n",
       "    </tr>\n",
       "  </tbody>\n",
       "</table>\n",
       "</div>"
      ],
      "text/plain": [
       "        Actual  Predicted\n",
       "0     9.669152  10.227959\n",
       "1    20.409043  22.072654\n",
       "2    26.216632  20.749277\n",
       "3    18.244843  21.547717\n",
       "4    21.003262  20.262975\n",
       "5    15.811821  22.941671\n",
       "6    15.317063  24.302302\n",
       "7    19.276186  20.136598\n",
       "8    41.042090  20.333300\n",
       "9    11.619052  18.633589\n",
       "10   21.796281  24.142444\n",
       "11   21.796281  23.523321\n",
       "12   11.619052  16.640820\n",
       "13   34.414009  23.205208\n",
       "14   18.516828  20.998887\n",
       "15    9.683961  25.433064\n",
       "16   18.516828  20.992097\n",
       "17  126.523414  24.442574\n",
       "18   14.572227  22.349332\n",
       "19   41.042090  20.323240\n",
       "20   24.021124  21.099329\n",
       "21   27.221287  21.074682\n",
       "22   41.042090  19.994062\n",
       "23   19.276186  19.384370\n",
       "24   20.409043  23.066759\n",
       "25    9.683961  23.866646\n",
       "26   24.021124  21.099738\n",
       "27   16.219116  25.691666\n",
       "28   16.219116  25.723983\n",
       "29    8.255246  19.316466"
      ]
     },
     "execution_count": 31,
     "metadata": {},
     "output_type": "execute_result"
    }
   ],
   "source": [
    "#Create a df to compare actual and predicted values of y\n",
    "\n",
    "data = pd.DataFrame({'Actual': y_test.flatten(), 'Predicted': y_predicted.flatten()})\n",
    "data.head(30)"
   ]
  },
  {
   "cell_type": "markdown",
   "id": "cb40cc84",
   "metadata": {},
   "source": [
    "The model did not do a very good job with the prediction values. I would be curious to see what would happen if I were to run the model on 2015-2017 data individually and then retry the 2014 data. I don't know if that's even possible. \n",
    "I haven't identified any potential biases inherent in this data, but there are several limitations of the data that definitely impact the results. "
   ]
  },
  {
   "cell_type": "code",
   "execution_count": null,
   "id": "3db315ba",
   "metadata": {},
   "outputs": [],
   "source": []
  }
 ],
 "metadata": {
  "kernelspec": {
   "display_name": "Python 3 (ipykernel)",
   "language": "python",
   "name": "python3"
  },
  "language_info": {
   "codemirror_mode": {
    "name": "ipython",
    "version": 3
   },
   "file_extension": ".py",
   "mimetype": "text/x-python",
   "name": "python",
   "nbconvert_exporter": "python",
   "pygments_lexer": "ipython3",
   "version": "3.9.13"
  }
 },
 "nbformat": 4,
 "nbformat_minor": 5
}
