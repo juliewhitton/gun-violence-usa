{
 "cells": [
  {
   "cell_type": "markdown",
   "id": "1b27bfa6",
   "metadata": {},
   "source": [
    "## 01. Import Libraries and Data"
   ]
  },
  {
   "cell_type": "code",
   "execution_count": 1,
   "id": "31082e72",
   "metadata": {},
   "outputs": [],
   "source": [
    "import pandas as pd\n",
    "import numpy as np\n",
    "import os\n",
    "import seaborn as sns\n",
    "import matplotlib.pyplot as plt\n",
    "import matplotlib"
   ]
  },
  {
   "cell_type": "code",
   "execution_count": 2,
   "id": "5987276a",
   "metadata": {},
   "outputs": [
    {
     "data": {
      "text/html": [
       "<div>\n",
       "<style scoped>\n",
       "    .dataframe tbody tr th:only-of-type {\n",
       "        vertical-align: middle;\n",
       "    }\n",
       "\n",
       "    .dataframe tbody tr th {\n",
       "        vertical-align: top;\n",
       "    }\n",
       "\n",
       "    .dataframe thead th {\n",
       "        text-align: right;\n",
       "    }\n",
       "</style>\n",
       "<table border=\"1\" class=\"dataframe\">\n",
       "  <thead>\n",
       "    <tr style=\"text-align: right;\">\n",
       "      <th></th>\n",
       "      <th>state</th>\n",
       "      <th>year</th>\n",
       "      <th>state_control</th>\n",
       "      <th>registration_req</th>\n",
       "      <th>open_carry_legal</th>\n",
       "      <th>open_carry_permit_req</th>\n",
       "      <th>permit_req_purchase</th>\n",
       "      <th>felons_may_own</th>\n",
       "      <th>restraining_order_may_own</th>\n",
       "      <th>dv_offender_may_own</th>\n",
       "      <th>violent_offender_may_own</th>\n",
       "      <th>conv_stalker_may_own</th>\n",
       "      <th>dealer_req_license</th>\n",
       "      <th>bg_check_required</th>\n",
       "      <th>concealed_carry_permit_req</th>\n",
       "      <th>guns_on_college_campus</th>\n",
       "      <th>guns_at_elemen_sch</th>\n",
       "      <th>assault_weapon_ban</th>\n",
       "    </tr>\n",
       "  </thead>\n",
       "  <tbody>\n",
       "    <tr>\n",
       "      <th>0</th>\n",
       "      <td>AL</td>\n",
       "      <td>2014</td>\n",
       "      <td>Rep</td>\n",
       "      <td>No</td>\n",
       "      <td>Yes</td>\n",
       "      <td>No</td>\n",
       "      <td>No</td>\n",
       "      <td>Yes</td>\n",
       "      <td>Yes</td>\n",
       "      <td>Yes</td>\n",
       "      <td>Yes</td>\n",
       "      <td>Yes</td>\n",
       "      <td>Yes</td>\n",
       "      <td>No</td>\n",
       "      <td>Yes</td>\n",
       "      <td>Yes</td>\n",
       "      <td>Yes</td>\n",
       "      <td>No</td>\n",
       "    </tr>\n",
       "    <tr>\n",
       "      <th>1</th>\n",
       "      <td>AK</td>\n",
       "      <td>2014</td>\n",
       "      <td>Rep</td>\n",
       "      <td>No</td>\n",
       "      <td>Yes</td>\n",
       "      <td>No</td>\n",
       "      <td>No</td>\n",
       "      <td>No</td>\n",
       "      <td>Yes</td>\n",
       "      <td>Yes</td>\n",
       "      <td>Yes</td>\n",
       "      <td>Yes</td>\n",
       "      <td>No</td>\n",
       "      <td>No</td>\n",
       "      <td>No</td>\n",
       "      <td>Yes</td>\n",
       "      <td>No</td>\n",
       "      <td>No</td>\n",
       "    </tr>\n",
       "    <tr>\n",
       "      <th>2</th>\n",
       "      <td>AZ</td>\n",
       "      <td>2014</td>\n",
       "      <td>Rep</td>\n",
       "      <td>No</td>\n",
       "      <td>Yes</td>\n",
       "      <td>No</td>\n",
       "      <td>No</td>\n",
       "      <td>No</td>\n",
       "      <td>Yes</td>\n",
       "      <td>No</td>\n",
       "      <td>Yes</td>\n",
       "      <td>No</td>\n",
       "      <td>No</td>\n",
       "      <td>No</td>\n",
       "      <td>No</td>\n",
       "      <td>Yes</td>\n",
       "      <td>Yes</td>\n",
       "      <td>No</td>\n",
       "    </tr>\n",
       "    <tr>\n",
       "      <th>3</th>\n",
       "      <td>AR</td>\n",
       "      <td>2014</td>\n",
       "      <td>Divided</td>\n",
       "      <td>No</td>\n",
       "      <td>Yes</td>\n",
       "      <td>No</td>\n",
       "      <td>No</td>\n",
       "      <td>No</td>\n",
       "      <td>Yes</td>\n",
       "      <td>Yes</td>\n",
       "      <td>Yes</td>\n",
       "      <td>Yes</td>\n",
       "      <td>No</td>\n",
       "      <td>No</td>\n",
       "      <td>Yes</td>\n",
       "      <td>No</td>\n",
       "      <td>No</td>\n",
       "      <td>No</td>\n",
       "    </tr>\n",
       "    <tr>\n",
       "      <th>4</th>\n",
       "      <td>CA</td>\n",
       "      <td>2014</td>\n",
       "      <td>Dem</td>\n",
       "      <td>No</td>\n",
       "      <td>No</td>\n",
       "      <td>Yes</td>\n",
       "      <td>Yes</td>\n",
       "      <td>No</td>\n",
       "      <td>No</td>\n",
       "      <td>No</td>\n",
       "      <td>No</td>\n",
       "      <td>No</td>\n",
       "      <td>Yes</td>\n",
       "      <td>Yes</td>\n",
       "      <td>Yes</td>\n",
       "      <td>No</td>\n",
       "      <td>Yes</td>\n",
       "      <td>Yes</td>\n",
       "    </tr>\n",
       "  </tbody>\n",
       "</table>\n",
       "</div>"
      ],
      "text/plain": [
       "  state  year state_control registration_req open_carry_legal  \\\n",
       "0    AL  2014           Rep               No              Yes   \n",
       "1    AK  2014           Rep               No              Yes   \n",
       "2    AZ  2014           Rep               No              Yes   \n",
       "3    AR  2014       Divided               No              Yes   \n",
       "4    CA  2014           Dem               No               No   \n",
       "\n",
       "  open_carry_permit_req permit_req_purchase felons_may_own  \\\n",
       "0                    No                  No            Yes   \n",
       "1                    No                  No             No   \n",
       "2                    No                  No             No   \n",
       "3                    No                  No             No   \n",
       "4                   Yes                 Yes             No   \n",
       "\n",
       "  restraining_order_may_own dv_offender_may_own violent_offender_may_own  \\\n",
       "0                       Yes                 Yes                      Yes   \n",
       "1                       Yes                 Yes                      Yes   \n",
       "2                       Yes                  No                      Yes   \n",
       "3                       Yes                 Yes                      Yes   \n",
       "4                        No                  No                       No   \n",
       "\n",
       "  conv_stalker_may_own dealer_req_license bg_check_required  \\\n",
       "0                  Yes                Yes                No   \n",
       "1                  Yes                 No                No   \n",
       "2                   No                 No                No   \n",
       "3                  Yes                 No                No   \n",
       "4                   No                Yes               Yes   \n",
       "\n",
       "  concealed_carry_permit_req guns_on_college_campus guns_at_elemen_sch  \\\n",
       "0                        Yes                    Yes                Yes   \n",
       "1                         No                    Yes                 No   \n",
       "2                         No                    Yes                Yes   \n",
       "3                        Yes                     No                 No   \n",
       "4                        Yes                     No                Yes   \n",
       "\n",
       "  assault_weapon_ban  \n",
       "0                 No  \n",
       "1                 No  \n",
       "2                 No  \n",
       "3                 No  \n",
       "4                Yes  "
      ]
     },
     "execution_count": 2,
     "metadata": {},
     "output_type": "execute_result"
    }
   ],
   "source": [
    "#import party_laws\n",
    "\n",
    "path = r'/Users/juliewhitton/Desktop/Personal Project/'\n",
    "df = pd.read_csv(os.path.join(path, 'Data', 'Final Data', 'pol_laws.csv'))\n",
    "df.head()"
   ]
  },
  {
   "cell_type": "code",
   "execution_count": 3,
   "id": "f6bae098",
   "metadata": {},
   "outputs": [
    {
     "data": {
      "text/plain": [
       "(204, 18)"
      ]
     },
     "execution_count": 3,
     "metadata": {},
     "output_type": "execute_result"
    }
   ],
   "source": [
    "df.shape"
   ]
  },
  {
   "cell_type": "markdown",
   "id": "40758444",
   "metadata": {},
   "source": [
    "## 02. Clean DF"
   ]
  },
  {
   "cell_type": "code",
   "execution_count": 4,
   "id": "732fe267",
   "metadata": {},
   "outputs": [
    {
     "name": "stdout",
     "output_type": "stream",
     "text": [
      "----------------------------------------state---------------------------------------- - "
     ]
    },
    {
     "data": {
      "text/plain": [
       "AL    4\n",
       "RI    4\n",
       "NH    4\n",
       "NJ    4\n",
       "NM    4\n",
       "NY    4\n",
       "NC    4\n",
       "ND    4\n",
       "OH    4\n",
       "OK    4\n",
       "Name: state, dtype: int64"
      ]
     },
     "metadata": {},
     "output_type": "display_data"
    },
    {
     "name": "stdout",
     "output_type": "stream",
     "text": [
      "----------------------------------------year---------------------------------------- - "
     ]
    },
    {
     "data": {
      "text/plain": [
       "2014    51\n",
       "2015    51\n",
       "2016    51\n",
       "2017    51\n",
       "Name: year, dtype: int64"
      ]
     },
     "metadata": {},
     "output_type": "display_data"
    },
    {
     "name": "stdout",
     "output_type": "stream",
     "text": [
      "----------------------------------------state_control---------------------------------------- - "
     ]
    },
    {
     "data": {
      "text/plain": [
       "Rep        93\n",
       "Divided    67\n",
       "Dem        38\n",
       "Dem*        2\n",
       "Name: state_control, dtype: int64"
      ]
     },
     "metadata": {},
     "output_type": "display_data"
    },
    {
     "name": "stdout",
     "output_type": "stream",
     "text": [
      "----------------------------------------registration_req---------------------------------------- - "
     ]
    },
    {
     "data": {
      "text/plain": [
       "No     188\n",
       "Yes     16\n",
       "Name: registration_req, dtype: int64"
      ]
     },
     "metadata": {},
     "output_type": "display_data"
    },
    {
     "name": "stdout",
     "output_type": "stream",
     "text": [
      "----------------------------------------open_carry_legal---------------------------------------- - "
     ]
    },
    {
     "data": {
      "text/plain": [
       "Yes    166\n",
       "No      38\n",
       "Name: open_carry_legal, dtype: int64"
      ]
     },
     "metadata": {},
     "output_type": "display_data"
    },
    {
     "name": "stdout",
     "output_type": "stream",
     "text": [
      "----------------------------------------open_carry_permit_req---------------------------------------- - "
     ]
    },
    {
     "data": {
      "text/plain": [
       "No     128\n",
       "Yes     76\n",
       "Name: open_carry_permit_req, dtype: int64"
      ]
     },
     "metadata": {},
     "output_type": "display_data"
    },
    {
     "name": "stdout",
     "output_type": "stream",
     "text": [
      "----------------------------------------permit_req_purchase---------------------------------------- - "
     ]
    },
    {
     "data": {
      "text/plain": [
       "No     148\n",
       "Yes     56\n",
       "Name: permit_req_purchase, dtype: int64"
      ]
     },
     "metadata": {},
     "output_type": "display_data"
    },
    {
     "name": "stdout",
     "output_type": "stream",
     "text": [
      "----------------------------------------felons_may_own---------------------------------------- - "
     ]
    },
    {
     "data": {
      "text/plain": [
       "No     152\n",
       "Yes     52\n",
       "Name: felons_may_own, dtype: int64"
      ]
     },
     "metadata": {},
     "output_type": "display_data"
    },
    {
     "name": "stdout",
     "output_type": "stream",
     "text": [
      "----------------------------------------restraining_order_may_own---------------------------------------- - "
     ]
    },
    {
     "data": {
      "text/plain": [
       "No     104\n",
       "Yes    100\n",
       "Name: restraining_order_may_own, dtype: int64"
      ]
     },
     "metadata": {},
     "output_type": "display_data"
    },
    {
     "name": "stdout",
     "output_type": "stream",
     "text": [
      "----------------------------------------dv_offender_may_own---------------------------------------- - "
     ]
    },
    {
     "data": {
      "text/plain": [
       "No     108\n",
       "Yes     96\n",
       "Name: dv_offender_may_own, dtype: int64"
      ]
     },
     "metadata": {},
     "output_type": "display_data"
    },
    {
     "name": "stdout",
     "output_type": "stream",
     "text": [
      "----------------------------------------violent_offender_may_own---------------------------------------- - "
     ]
    },
    {
     "data": {
      "text/plain": [
       "Yes    136\n",
       "No      68\n",
       "Name: violent_offender_may_own, dtype: int64"
      ]
     },
     "metadata": {},
     "output_type": "display_data"
    },
    {
     "name": "stdout",
     "output_type": "stream",
     "text": [
      "----------------------------------------conv_stalker_may_own---------------------------------------- - "
     ]
    },
    {
     "data": {
      "text/plain": [
       "Yes    139\n",
       "No      65\n",
       "Name: conv_stalker_may_own, dtype: int64"
      ]
     },
     "metadata": {},
     "output_type": "display_data"
    },
    {
     "name": "stdout",
     "output_type": "stream",
     "text": [
      "----------------------------------------dealer_req_license---------------------------------------- - "
     ]
    },
    {
     "data": {
      "text/plain": [
       "No     144\n",
       "Yes     60\n",
       "Name: dealer_req_license, dtype: int64"
      ]
     },
     "metadata": {},
     "output_type": "display_data"
    },
    {
     "name": "stdout",
     "output_type": "stream",
     "text": [
      "----------------------------------------bg_check_required---------------------------------------- - "
     ]
    },
    {
     "data": {
      "text/plain": [
       "No     127\n",
       "Yes     77\n",
       "Name: bg_check_required, dtype: int64"
      ]
     },
     "metadata": {},
     "output_type": "display_data"
    },
    {
     "name": "stdout",
     "output_type": "stream",
     "text": [
      "----------------------------------------concealed_carry_permit_req---------------------------------------- - "
     ]
    },
    {
     "data": {
      "text/plain": [
       "Yes    172\n",
       "No      32\n",
       "Name: concealed_carry_permit_req, dtype: int64"
      ]
     },
     "metadata": {},
     "output_type": "display_data"
    },
    {
     "name": "stdout",
     "output_type": "stream",
     "text": [
      "----------------------------------------guns_on_college_campus---------------------------------------- - "
     ]
    },
    {
     "data": {
      "text/plain": [
       "Yes    128\n",
       "No      76\n",
       "Name: guns_on_college_campus, dtype: int64"
      ]
     },
     "metadata": {},
     "output_type": "display_data"
    },
    {
     "name": "stdout",
     "output_type": "stream",
     "text": [
      "----------------------------------------guns_at_elemen_sch---------------------------------------- - "
     ]
    },
    {
     "data": {
      "text/plain": [
       "No     140\n",
       "Yes     64\n",
       "Name: guns_at_elemen_sch, dtype: int64"
      ]
     },
     "metadata": {},
     "output_type": "display_data"
    },
    {
     "name": "stdout",
     "output_type": "stream",
     "text": [
      "----------------------------------------assault_weapon_ban---------------------------------------- - "
     ]
    },
    {
     "data": {
      "text/plain": [
       "No     176\n",
       "Yes     28\n",
       "Name: assault_weapon_ban, dtype: int64"
      ]
     },
     "metadata": {},
     "output_type": "display_data"
    }
   ],
   "source": [
    "#get value counts for all cols\n",
    "\n",
    "for col in df.columns:\n",
    "    print('-' * 40 + col + '-' * 40 , end=' - ')\n",
    "    display(df[col].value_counts().head(10))"
   ]
  },
  {
   "cell_type": "code",
   "execution_count": 5,
   "id": "705a3a11",
   "metadata": {},
   "outputs": [],
   "source": [
    "#make party values uniform\n",
    "\n",
    "df['state_control'].replace({'Dem*' : 'Dem'}, inplace = True)"
   ]
  },
  {
   "cell_type": "code",
   "execution_count": 6,
   "id": "f3448ed4",
   "metadata": {},
   "outputs": [
    {
     "data": {
      "text/plain": [
       "state                         0\n",
       "year                          0\n",
       "state_control                 4\n",
       "registration_req              0\n",
       "open_carry_legal              0\n",
       "open_carry_permit_req         0\n",
       "permit_req_purchase           0\n",
       "felons_may_own                0\n",
       "restraining_order_may_own     0\n",
       "dv_offender_may_own           0\n",
       "violent_offender_may_own      0\n",
       "conv_stalker_may_own          0\n",
       "dealer_req_license            0\n",
       "bg_check_required             0\n",
       "concealed_carry_permit_req    0\n",
       "guns_on_college_campus        0\n",
       "guns_at_elemen_sch            0\n",
       "assault_weapon_ban            0\n",
       "dtype: int64"
      ]
     },
     "execution_count": 6,
     "metadata": {},
     "output_type": "execute_result"
    }
   ],
   "source": [
    "#check for missing values\n",
    "\n",
    "df.isna().sum()"
   ]
  },
  {
   "cell_type": "code",
   "execution_count": 7,
   "id": "c0d4f2ca",
   "metadata": {},
   "outputs": [
    {
     "data": {
      "text/plain": [
       "Int64Index([26, 76, 126, 176], dtype='int64')"
      ]
     },
     "execution_count": 7,
     "metadata": {},
     "output_type": "execute_result"
    }
   ],
   "source": [
    "#get location of missing values\n",
    "\n",
    "df.loc[pd.isna(df['state_control']), :].index"
   ]
  },
  {
   "cell_type": "code",
   "execution_count": 8,
   "id": "811485ec",
   "metadata": {},
   "outputs": [
    {
     "data": {
      "text/html": [
       "<div>\n",
       "<style scoped>\n",
       "    .dataframe tbody tr th:only-of-type {\n",
       "        vertical-align: middle;\n",
       "    }\n",
       "\n",
       "    .dataframe tbody tr th {\n",
       "        vertical-align: top;\n",
       "    }\n",
       "\n",
       "    .dataframe thead th {\n",
       "        text-align: right;\n",
       "    }\n",
       "</style>\n",
       "<table border=\"1\" class=\"dataframe\">\n",
       "  <thead>\n",
       "    <tr style=\"text-align: right;\">\n",
       "      <th></th>\n",
       "      <th>state</th>\n",
       "      <th>year</th>\n",
       "      <th>state_control</th>\n",
       "      <th>registration_req</th>\n",
       "      <th>open_carry_legal</th>\n",
       "      <th>open_carry_permit_req</th>\n",
       "      <th>permit_req_purchase</th>\n",
       "      <th>felons_may_own</th>\n",
       "      <th>restraining_order_may_own</th>\n",
       "      <th>dv_offender_may_own</th>\n",
       "      <th>violent_offender_may_own</th>\n",
       "      <th>conv_stalker_may_own</th>\n",
       "      <th>dealer_req_license</th>\n",
       "      <th>bg_check_required</th>\n",
       "      <th>concealed_carry_permit_req</th>\n",
       "      <th>guns_on_college_campus</th>\n",
       "      <th>guns_at_elemen_sch</th>\n",
       "      <th>assault_weapon_ban</th>\n",
       "    </tr>\n",
       "  </thead>\n",
       "  <tbody>\n",
       "    <tr>\n",
       "      <th>26</th>\n",
       "      <td>NE</td>\n",
       "      <td>2014</td>\n",
       "      <td>NaN</td>\n",
       "      <td>No</td>\n",
       "      <td>Yes</td>\n",
       "      <td>No</td>\n",
       "      <td>Yes</td>\n",
       "      <td>No</td>\n",
       "      <td>Yes</td>\n",
       "      <td>No</td>\n",
       "      <td>Yes</td>\n",
       "      <td>Yes</td>\n",
       "      <td>No</td>\n",
       "      <td>Yes</td>\n",
       "      <td>Yes</td>\n",
       "      <td>No</td>\n",
       "      <td>No</td>\n",
       "      <td>No</td>\n",
       "    </tr>\n",
       "    <tr>\n",
       "      <th>76</th>\n",
       "      <td>NE</td>\n",
       "      <td>2015</td>\n",
       "      <td>NaN</td>\n",
       "      <td>No</td>\n",
       "      <td>Yes</td>\n",
       "      <td>No</td>\n",
       "      <td>Yes</td>\n",
       "      <td>No</td>\n",
       "      <td>Yes</td>\n",
       "      <td>No</td>\n",
       "      <td>Yes</td>\n",
       "      <td>Yes</td>\n",
       "      <td>No</td>\n",
       "      <td>Yes</td>\n",
       "      <td>Yes</td>\n",
       "      <td>No</td>\n",
       "      <td>No</td>\n",
       "      <td>No</td>\n",
       "    </tr>\n",
       "    <tr>\n",
       "      <th>126</th>\n",
       "      <td>NE</td>\n",
       "      <td>2016</td>\n",
       "      <td>NaN</td>\n",
       "      <td>No</td>\n",
       "      <td>Yes</td>\n",
       "      <td>No</td>\n",
       "      <td>Yes</td>\n",
       "      <td>No</td>\n",
       "      <td>Yes</td>\n",
       "      <td>No</td>\n",
       "      <td>Yes</td>\n",
       "      <td>Yes</td>\n",
       "      <td>No</td>\n",
       "      <td>Yes</td>\n",
       "      <td>Yes</td>\n",
       "      <td>No</td>\n",
       "      <td>No</td>\n",
       "      <td>No</td>\n",
       "    </tr>\n",
       "    <tr>\n",
       "      <th>176</th>\n",
       "      <td>NE</td>\n",
       "      <td>2017</td>\n",
       "      <td>NaN</td>\n",
       "      <td>No</td>\n",
       "      <td>Yes</td>\n",
       "      <td>No</td>\n",
       "      <td>Yes</td>\n",
       "      <td>No</td>\n",
       "      <td>Yes</td>\n",
       "      <td>No</td>\n",
       "      <td>Yes</td>\n",
       "      <td>Yes</td>\n",
       "      <td>No</td>\n",
       "      <td>Yes</td>\n",
       "      <td>Yes</td>\n",
       "      <td>No</td>\n",
       "      <td>No</td>\n",
       "      <td>No</td>\n",
       "    </tr>\n",
       "  </tbody>\n",
       "</table>\n",
       "</div>"
      ],
      "text/plain": [
       "    state  year state_control registration_req open_carry_legal  \\\n",
       "26     NE  2014           NaN               No              Yes   \n",
       "76     NE  2015           NaN               No              Yes   \n",
       "126    NE  2016           NaN               No              Yes   \n",
       "176    NE  2017           NaN               No              Yes   \n",
       "\n",
       "    open_carry_permit_req permit_req_purchase felons_may_own  \\\n",
       "26                     No                 Yes             No   \n",
       "76                     No                 Yes             No   \n",
       "126                    No                 Yes             No   \n",
       "176                    No                 Yes             No   \n",
       "\n",
       "    restraining_order_may_own dv_offender_may_own violent_offender_may_own  \\\n",
       "26                        Yes                  No                      Yes   \n",
       "76                        Yes                  No                      Yes   \n",
       "126                       Yes                  No                      Yes   \n",
       "176                       Yes                  No                      Yes   \n",
       "\n",
       "    conv_stalker_may_own dealer_req_license bg_check_required  \\\n",
       "26                   Yes                 No               Yes   \n",
       "76                   Yes                 No               Yes   \n",
       "126                  Yes                 No               Yes   \n",
       "176                  Yes                 No               Yes   \n",
       "\n",
       "    concealed_carry_permit_req guns_on_college_campus guns_at_elemen_sch  \\\n",
       "26                         Yes                     No                 No   \n",
       "76                         Yes                     No                 No   \n",
       "126                        Yes                     No                 No   \n",
       "176                        Yes                     No                 No   \n",
       "\n",
       "    assault_weapon_ban  \n",
       "26                  No  \n",
       "76                  No  \n",
       "126                 No  \n",
       "176                 No  "
      ]
     },
     "execution_count": 8,
     "metadata": {},
     "output_type": "execute_result"
    }
   ],
   "source": [
    "#view rows with missing values\n",
    "\n",
    "df.iloc[[26, 76, 126, 176]]"
   ]
  },
  {
   "cell_type": "code",
   "execution_count": 9,
   "id": "55f6d3fb",
   "metadata": {},
   "outputs": [],
   "source": [
    "#replace NaNs with correct values \n",
    "\n",
    "values = {'state_control': 'Rep'}\n",
    "df.fillna(value = values, inplace = True)"
   ]
  },
  {
   "cell_type": "code",
   "execution_count": 10,
   "id": "8a3e0ff6",
   "metadata": {},
   "outputs": [
    {
     "data": {
      "text/plain": [
       "state                         0\n",
       "year                          0\n",
       "state_control                 0\n",
       "registration_req              0\n",
       "open_carry_legal              0\n",
       "open_carry_permit_req         0\n",
       "permit_req_purchase           0\n",
       "felons_may_own                0\n",
       "restraining_order_may_own     0\n",
       "dv_offender_may_own           0\n",
       "violent_offender_may_own      0\n",
       "conv_stalker_may_own          0\n",
       "dealer_req_license            0\n",
       "bg_check_required             0\n",
       "concealed_carry_permit_req    0\n",
       "guns_on_college_campus        0\n",
       "guns_at_elemen_sch            0\n",
       "assault_weapon_ban            0\n",
       "dtype: int64"
      ]
     },
     "execution_count": 10,
     "metadata": {},
     "output_type": "execute_result"
    }
   ],
   "source": [
    "df.isna().sum()"
   ]
  },
  {
   "cell_type": "markdown",
   "id": "eef5b0de",
   "metadata": {},
   "source": [
    "## 03. Create 'total_laws' and 'law_strength' Columns"
   ]
  },
  {
   "cell_type": "code",
   "execution_count": 11,
   "id": "f6f90fb4",
   "metadata": {},
   "outputs": [],
   "source": [
    "#replace Y/N values in law cols with 0 or 1. 1 indicates the presence of a law that strengthens gun control.\n",
    "\n",
    "df.loc[df['registration_req'] == 'Yes', 'registration_req'] = 1\n",
    "df.loc[df['registration_req'] == 'No', 'registration_req'] = 0\n",
    "df.loc[df['open_carry_legal'] == 'Yes', 'open_carry_legal'] = 0\n",
    "df.loc[df['open_carry_legal'] == 'No', 'open_carry_legal'] = 1\n",
    "df.loc[df['open_carry_permit_req'] == 'Yes', 'open_carry_permit_req'] = 1\n",
    "df.loc[df['open_carry_permit_req'] == 'No', 'open_carry_permit_req'] = 0\n",
    "df.loc[df['permit_req_purchase'] == 'Yes', 'permit_req_purchase'] = 1\n",
    "df.loc[df['permit_req_purchase'] == 'No', 'permit_req_purchase'] = 0\n",
    "df.loc[df['felons_may_own'] == 'Yes', 'felons_may_own'] = 0\n",
    "df.loc[df['felons_may_own'] == 'No', 'felons_may_own'] = 1\n",
    "df.loc[df['restraining_order_may_own'] == 'Yes', 'restraining_order_may_own'] = 0\n",
    "df.loc[df['restraining_order_may_own'] == 'No', 'restraining_order_may_own'] = 1\n",
    "df.loc[df['dv_offender_may_own'] == 'Yes', 'dv_offender_may_own'] = 0\n",
    "df.loc[df['dv_offender_may_own'] == 'No', 'dv_offender_may_own'] = 1\n",
    "df.loc[df['violent_offender_may_own'] == 'Yes', 'violent_offender_may_own'] = 0\n",
    "df.loc[df['violent_offender_may_own'] == 'No', 'violent_offender_may_own'] = 1\n",
    "df.loc[df['conv_stalker_may_own'] == 'Yes', 'conv_stalker_may_own'] = 0\n",
    "df.loc[df['conv_stalker_may_own'] == 'No', 'conv_stalker_may_own'] = 1\n",
    "df.loc[df['dealer_req_license'] == 'Yes', 'dealer_req_license'] = 1\n",
    "df.loc[df['dealer_req_license'] == 'No', 'dealer_req_license'] = 0\n",
    "df.loc[df['bg_check_required'] == 'Yes', 'bg_check_required'] = 1\n",
    "df.loc[df['bg_check_required'] == 'No', 'bg_check_required'] = 0\n",
    "df.loc[df['concealed_carry_permit_req'] == 'Yes', 'concealed_carry_permit_req'] = 1\n",
    "df.loc[df['concealed_carry_permit_req'] == 'No', 'concealed_carry_permit_req'] = 0\n",
    "df.loc[df['guns_on_college_campus'] == 'Yes', 'guns_on_college_campus'] = 0\n",
    "df.loc[df['guns_on_college_campus'] == 'No', 'guns_on_college_campus'] = 1\n",
    "df.loc[df['guns_at_elemen_sch'] == 'Yes', 'guns_at_elemen_sch'] = 0\n",
    "df.loc[df['guns_at_elemen_sch'] == 'No', 'guns_at_elemen_sch'] = 1\n",
    "df.loc[df['assault_weapon_ban'] == 'Yes', 'assault_weapon_ban'] = 1\n",
    "df.loc[df['assault_weapon_ban'] == 'No', 'assault_weapon_ban'] = 0"
   ]
  },
  {
   "cell_type": "code",
   "execution_count": 12,
   "id": "b6926b69",
   "metadata": {},
   "outputs": [
    {
     "name": "stdout",
     "output_type": "stream",
     "text": [
      "----------------------------------------state---------------------------------------- - "
     ]
    },
    {
     "data": {
      "text/plain": [
       "AL    4\n",
       "RI    4\n",
       "NH    4\n",
       "NJ    4\n",
       "NM    4\n",
       "NY    4\n",
       "NC    4\n",
       "ND    4\n",
       "OH    4\n",
       "OK    4\n",
       "Name: state, dtype: int64"
      ]
     },
     "metadata": {},
     "output_type": "display_data"
    },
    {
     "name": "stdout",
     "output_type": "stream",
     "text": [
      "----------------------------------------year---------------------------------------- - "
     ]
    },
    {
     "data": {
      "text/plain": [
       "2014    51\n",
       "2015    51\n",
       "2016    51\n",
       "2017    51\n",
       "Name: year, dtype: int64"
      ]
     },
     "metadata": {},
     "output_type": "display_data"
    },
    {
     "name": "stdout",
     "output_type": "stream",
     "text": [
      "----------------------------------------state_control---------------------------------------- - "
     ]
    },
    {
     "data": {
      "text/plain": [
       "Rep        97\n",
       "Divided    67\n",
       "Dem        40\n",
       "Name: state_control, dtype: int64"
      ]
     },
     "metadata": {},
     "output_type": "display_data"
    },
    {
     "name": "stdout",
     "output_type": "stream",
     "text": [
      "----------------------------------------registration_req---------------------------------------- - "
     ]
    },
    {
     "data": {
      "text/plain": [
       "0    188\n",
       "1     16\n",
       "Name: registration_req, dtype: int64"
      ]
     },
     "metadata": {},
     "output_type": "display_data"
    },
    {
     "name": "stdout",
     "output_type": "stream",
     "text": [
      "----------------------------------------open_carry_legal---------------------------------------- - "
     ]
    },
    {
     "data": {
      "text/plain": [
       "0    166\n",
       "1     38\n",
       "Name: open_carry_legal, dtype: int64"
      ]
     },
     "metadata": {},
     "output_type": "display_data"
    },
    {
     "name": "stdout",
     "output_type": "stream",
     "text": [
      "----------------------------------------open_carry_permit_req---------------------------------------- - "
     ]
    },
    {
     "data": {
      "text/plain": [
       "0    128\n",
       "1     76\n",
       "Name: open_carry_permit_req, dtype: int64"
      ]
     },
     "metadata": {},
     "output_type": "display_data"
    },
    {
     "name": "stdout",
     "output_type": "stream",
     "text": [
      "----------------------------------------permit_req_purchase---------------------------------------- - "
     ]
    },
    {
     "data": {
      "text/plain": [
       "0    148\n",
       "1     56\n",
       "Name: permit_req_purchase, dtype: int64"
      ]
     },
     "metadata": {},
     "output_type": "display_data"
    },
    {
     "name": "stdout",
     "output_type": "stream",
     "text": [
      "----------------------------------------felons_may_own---------------------------------------- - "
     ]
    },
    {
     "data": {
      "text/plain": [
       "1    152\n",
       "0     52\n",
       "Name: felons_may_own, dtype: int64"
      ]
     },
     "metadata": {},
     "output_type": "display_data"
    },
    {
     "name": "stdout",
     "output_type": "stream",
     "text": [
      "----------------------------------------restraining_order_may_own---------------------------------------- - "
     ]
    },
    {
     "data": {
      "text/plain": [
       "1    104\n",
       "0    100\n",
       "Name: restraining_order_may_own, dtype: int64"
      ]
     },
     "metadata": {},
     "output_type": "display_data"
    },
    {
     "name": "stdout",
     "output_type": "stream",
     "text": [
      "----------------------------------------dv_offender_may_own---------------------------------------- - "
     ]
    },
    {
     "data": {
      "text/plain": [
       "1    108\n",
       "0     96\n",
       "Name: dv_offender_may_own, dtype: int64"
      ]
     },
     "metadata": {},
     "output_type": "display_data"
    },
    {
     "name": "stdout",
     "output_type": "stream",
     "text": [
      "----------------------------------------violent_offender_may_own---------------------------------------- - "
     ]
    },
    {
     "data": {
      "text/plain": [
       "0    136\n",
       "1     68\n",
       "Name: violent_offender_may_own, dtype: int64"
      ]
     },
     "metadata": {},
     "output_type": "display_data"
    },
    {
     "name": "stdout",
     "output_type": "stream",
     "text": [
      "----------------------------------------conv_stalker_may_own---------------------------------------- - "
     ]
    },
    {
     "data": {
      "text/plain": [
       "0    139\n",
       "1     65\n",
       "Name: conv_stalker_may_own, dtype: int64"
      ]
     },
     "metadata": {},
     "output_type": "display_data"
    },
    {
     "name": "stdout",
     "output_type": "stream",
     "text": [
      "----------------------------------------dealer_req_license---------------------------------------- - "
     ]
    },
    {
     "data": {
      "text/plain": [
       "0    144\n",
       "1     60\n",
       "Name: dealer_req_license, dtype: int64"
      ]
     },
     "metadata": {},
     "output_type": "display_data"
    },
    {
     "name": "stdout",
     "output_type": "stream",
     "text": [
      "----------------------------------------bg_check_required---------------------------------------- - "
     ]
    },
    {
     "data": {
      "text/plain": [
       "0    127\n",
       "1     77\n",
       "Name: bg_check_required, dtype: int64"
      ]
     },
     "metadata": {},
     "output_type": "display_data"
    },
    {
     "name": "stdout",
     "output_type": "stream",
     "text": [
      "----------------------------------------concealed_carry_permit_req---------------------------------------- - "
     ]
    },
    {
     "data": {
      "text/plain": [
       "1    172\n",
       "0     32\n",
       "Name: concealed_carry_permit_req, dtype: int64"
      ]
     },
     "metadata": {},
     "output_type": "display_data"
    },
    {
     "name": "stdout",
     "output_type": "stream",
     "text": [
      "----------------------------------------guns_on_college_campus---------------------------------------- - "
     ]
    },
    {
     "data": {
      "text/plain": [
       "0    128\n",
       "1     76\n",
       "Name: guns_on_college_campus, dtype: int64"
      ]
     },
     "metadata": {},
     "output_type": "display_data"
    },
    {
     "name": "stdout",
     "output_type": "stream",
     "text": [
      "----------------------------------------guns_at_elemen_sch---------------------------------------- - "
     ]
    },
    {
     "data": {
      "text/plain": [
       "1    140\n",
       "0     64\n",
       "Name: guns_at_elemen_sch, dtype: int64"
      ]
     },
     "metadata": {},
     "output_type": "display_data"
    },
    {
     "name": "stdout",
     "output_type": "stream",
     "text": [
      "----------------------------------------assault_weapon_ban---------------------------------------- - "
     ]
    },
    {
     "data": {
      "text/plain": [
       "0    176\n",
       "1     28\n",
       "Name: assault_weapon_ban, dtype: int64"
      ]
     },
     "metadata": {},
     "output_type": "display_data"
    }
   ],
   "source": [
    "#view value counts for all cols\n",
    "\n",
    "for col in df.columns:\n",
    "    print('-' * 40 + col + '-' * 40 , end=' - ')\n",
    "    display(df[col].value_counts().head(10))"
   ]
  },
  {
   "cell_type": "code",
   "execution_count": 13,
   "id": "83509cd6",
   "metadata": {},
   "outputs": [
    {
     "data": {
      "text/plain": [
       "['registration_req',\n",
       " 'open_carry_legal',\n",
       " 'open_carry_permit_req',\n",
       " 'permit_req_purchase',\n",
       " 'felons_may_own',\n",
       " 'restraining_order_may_own',\n",
       " 'dv_offender_may_own',\n",
       " 'violent_offender_may_own',\n",
       " 'conv_stalker_may_own',\n",
       " 'dealer_req_license',\n",
       " 'bg_check_required',\n",
       " 'concealed_carry_permit_req',\n",
       " 'guns_on_college_campus',\n",
       " 'guns_at_elemen_sch',\n",
       " 'assault_weapon_ban']"
      ]
     },
     "execution_count": 13,
     "metadata": {},
     "output_type": "execute_result"
    }
   ],
   "source": [
    "#create list of columns to sum\n",
    "\n",
    "col_list= list(df.columns)\n",
    "del col_list[0:3]\n",
    "col_list"
   ]
  },
  {
   "cell_type": "code",
   "execution_count": 14,
   "id": "51ab0981",
   "metadata": {},
   "outputs": [
    {
     "data": {
      "text/html": [
       "<div>\n",
       "<style scoped>\n",
       "    .dataframe tbody tr th:only-of-type {\n",
       "        vertical-align: middle;\n",
       "    }\n",
       "\n",
       "    .dataframe tbody tr th {\n",
       "        vertical-align: top;\n",
       "    }\n",
       "\n",
       "    .dataframe thead th {\n",
       "        text-align: right;\n",
       "    }\n",
       "</style>\n",
       "<table border=\"1\" class=\"dataframe\">\n",
       "  <thead>\n",
       "    <tr style=\"text-align: right;\">\n",
       "      <th></th>\n",
       "      <th>state</th>\n",
       "      <th>year</th>\n",
       "      <th>state_control</th>\n",
       "      <th>registration_req</th>\n",
       "      <th>open_carry_legal</th>\n",
       "      <th>open_carry_permit_req</th>\n",
       "      <th>permit_req_purchase</th>\n",
       "      <th>felons_may_own</th>\n",
       "      <th>restraining_order_may_own</th>\n",
       "      <th>dv_offender_may_own</th>\n",
       "      <th>violent_offender_may_own</th>\n",
       "      <th>conv_stalker_may_own</th>\n",
       "      <th>dealer_req_license</th>\n",
       "      <th>bg_check_required</th>\n",
       "      <th>concealed_carry_permit_req</th>\n",
       "      <th>guns_on_college_campus</th>\n",
       "      <th>guns_at_elemen_sch</th>\n",
       "      <th>assault_weapon_ban</th>\n",
       "      <th>total_laws</th>\n",
       "    </tr>\n",
       "  </thead>\n",
       "  <tbody>\n",
       "    <tr>\n",
       "      <th>0</th>\n",
       "      <td>AL</td>\n",
       "      <td>2014</td>\n",
       "      <td>Rep</td>\n",
       "      <td>0</td>\n",
       "      <td>0</td>\n",
       "      <td>0</td>\n",
       "      <td>0</td>\n",
       "      <td>0</td>\n",
       "      <td>0</td>\n",
       "      <td>0</td>\n",
       "      <td>0</td>\n",
       "      <td>0</td>\n",
       "      <td>1</td>\n",
       "      <td>0</td>\n",
       "      <td>1</td>\n",
       "      <td>0</td>\n",
       "      <td>0</td>\n",
       "      <td>0</td>\n",
       "      <td>2.0</td>\n",
       "    </tr>\n",
       "    <tr>\n",
       "      <th>1</th>\n",
       "      <td>AK</td>\n",
       "      <td>2014</td>\n",
       "      <td>Rep</td>\n",
       "      <td>0</td>\n",
       "      <td>0</td>\n",
       "      <td>0</td>\n",
       "      <td>0</td>\n",
       "      <td>1</td>\n",
       "      <td>0</td>\n",
       "      <td>0</td>\n",
       "      <td>0</td>\n",
       "      <td>0</td>\n",
       "      <td>0</td>\n",
       "      <td>0</td>\n",
       "      <td>0</td>\n",
       "      <td>0</td>\n",
       "      <td>1</td>\n",
       "      <td>0</td>\n",
       "      <td>2.0</td>\n",
       "    </tr>\n",
       "    <tr>\n",
       "      <th>2</th>\n",
       "      <td>AZ</td>\n",
       "      <td>2014</td>\n",
       "      <td>Rep</td>\n",
       "      <td>0</td>\n",
       "      <td>0</td>\n",
       "      <td>0</td>\n",
       "      <td>0</td>\n",
       "      <td>1</td>\n",
       "      <td>0</td>\n",
       "      <td>1</td>\n",
       "      <td>0</td>\n",
       "      <td>1</td>\n",
       "      <td>0</td>\n",
       "      <td>0</td>\n",
       "      <td>0</td>\n",
       "      <td>0</td>\n",
       "      <td>0</td>\n",
       "      <td>0</td>\n",
       "      <td>3.0</td>\n",
       "    </tr>\n",
       "    <tr>\n",
       "      <th>3</th>\n",
       "      <td>AR</td>\n",
       "      <td>2014</td>\n",
       "      <td>Divided</td>\n",
       "      <td>0</td>\n",
       "      <td>0</td>\n",
       "      <td>0</td>\n",
       "      <td>0</td>\n",
       "      <td>1</td>\n",
       "      <td>0</td>\n",
       "      <td>0</td>\n",
       "      <td>0</td>\n",
       "      <td>0</td>\n",
       "      <td>0</td>\n",
       "      <td>0</td>\n",
       "      <td>1</td>\n",
       "      <td>1</td>\n",
       "      <td>1</td>\n",
       "      <td>0</td>\n",
       "      <td>4.0</td>\n",
       "    </tr>\n",
       "    <tr>\n",
       "      <th>4</th>\n",
       "      <td>CA</td>\n",
       "      <td>2014</td>\n",
       "      <td>Dem</td>\n",
       "      <td>0</td>\n",
       "      <td>1</td>\n",
       "      <td>1</td>\n",
       "      <td>1</td>\n",
       "      <td>1</td>\n",
       "      <td>1</td>\n",
       "      <td>1</td>\n",
       "      <td>1</td>\n",
       "      <td>1</td>\n",
       "      <td>1</td>\n",
       "      <td>1</td>\n",
       "      <td>1</td>\n",
       "      <td>1</td>\n",
       "      <td>0</td>\n",
       "      <td>1</td>\n",
       "      <td>13.0</td>\n",
       "    </tr>\n",
       "    <tr>\n",
       "      <th>5</th>\n",
       "      <td>CO</td>\n",
       "      <td>2014</td>\n",
       "      <td>Dem</td>\n",
       "      <td>0</td>\n",
       "      <td>0</td>\n",
       "      <td>0</td>\n",
       "      <td>0</td>\n",
       "      <td>1</td>\n",
       "      <td>1</td>\n",
       "      <td>1</td>\n",
       "      <td>0</td>\n",
       "      <td>1</td>\n",
       "      <td>0</td>\n",
       "      <td>1</td>\n",
       "      <td>1</td>\n",
       "      <td>1</td>\n",
       "      <td>1</td>\n",
       "      <td>0</td>\n",
       "      <td>8.0</td>\n",
       "    </tr>\n",
       "    <tr>\n",
       "      <th>6</th>\n",
       "      <td>CT</td>\n",
       "      <td>2014</td>\n",
       "      <td>Dem</td>\n",
       "      <td>0</td>\n",
       "      <td>1</td>\n",
       "      <td>1</td>\n",
       "      <td>1</td>\n",
       "      <td>1</td>\n",
       "      <td>1</td>\n",
       "      <td>1</td>\n",
       "      <td>1</td>\n",
       "      <td>1</td>\n",
       "      <td>1</td>\n",
       "      <td>1</td>\n",
       "      <td>1</td>\n",
       "      <td>0</td>\n",
       "      <td>1</td>\n",
       "      <td>1</td>\n",
       "      <td>13.0</td>\n",
       "    </tr>\n",
       "    <tr>\n",
       "      <th>7</th>\n",
       "      <td>DE</td>\n",
       "      <td>2014</td>\n",
       "      <td>Dem</td>\n",
       "      <td>0</td>\n",
       "      <td>0</td>\n",
       "      <td>0</td>\n",
       "      <td>0</td>\n",
       "      <td>1</td>\n",
       "      <td>1</td>\n",
       "      <td>1</td>\n",
       "      <td>1</td>\n",
       "      <td>1</td>\n",
       "      <td>1</td>\n",
       "      <td>1</td>\n",
       "      <td>1</td>\n",
       "      <td>0</td>\n",
       "      <td>1</td>\n",
       "      <td>0</td>\n",
       "      <td>9.0</td>\n",
       "    </tr>\n",
       "    <tr>\n",
       "      <th>8</th>\n",
       "      <td>FL</td>\n",
       "      <td>2014</td>\n",
       "      <td>Rep</td>\n",
       "      <td>0</td>\n",
       "      <td>1</td>\n",
       "      <td>1</td>\n",
       "      <td>0</td>\n",
       "      <td>1</td>\n",
       "      <td>1</td>\n",
       "      <td>0</td>\n",
       "      <td>0</td>\n",
       "      <td>0</td>\n",
       "      <td>0</td>\n",
       "      <td>0</td>\n",
       "      <td>1</td>\n",
       "      <td>1</td>\n",
       "      <td>1</td>\n",
       "      <td>0</td>\n",
       "      <td>7.0</td>\n",
       "    </tr>\n",
       "    <tr>\n",
       "      <th>9</th>\n",
       "      <td>GA</td>\n",
       "      <td>2014</td>\n",
       "      <td>Rep</td>\n",
       "      <td>0</td>\n",
       "      <td>0</td>\n",
       "      <td>1</td>\n",
       "      <td>0</td>\n",
       "      <td>1</td>\n",
       "      <td>0</td>\n",
       "      <td>0</td>\n",
       "      <td>0</td>\n",
       "      <td>0</td>\n",
       "      <td>0</td>\n",
       "      <td>0</td>\n",
       "      <td>1</td>\n",
       "      <td>0</td>\n",
       "      <td>0</td>\n",
       "      <td>0</td>\n",
       "      <td>3.0</td>\n",
       "    </tr>\n",
       "  </tbody>\n",
       "</table>\n",
       "</div>"
      ],
      "text/plain": [
       "  state  year state_control registration_req open_carry_legal  \\\n",
       "0    AL  2014           Rep                0                0   \n",
       "1    AK  2014           Rep                0                0   \n",
       "2    AZ  2014           Rep                0                0   \n",
       "3    AR  2014       Divided                0                0   \n",
       "4    CA  2014           Dem                0                1   \n",
       "5    CO  2014           Dem                0                0   \n",
       "6    CT  2014           Dem                0                1   \n",
       "7    DE  2014           Dem                0                0   \n",
       "8    FL  2014           Rep                0                1   \n",
       "9    GA  2014           Rep                0                0   \n",
       "\n",
       "  open_carry_permit_req permit_req_purchase felons_may_own  \\\n",
       "0                     0                   0              0   \n",
       "1                     0                   0              1   \n",
       "2                     0                   0              1   \n",
       "3                     0                   0              1   \n",
       "4                     1                   1              1   \n",
       "5                     0                   0              1   \n",
       "6                     1                   1              1   \n",
       "7                     0                   0              1   \n",
       "8                     1                   0              1   \n",
       "9                     1                   0              1   \n",
       "\n",
       "  restraining_order_may_own dv_offender_may_own violent_offender_may_own  \\\n",
       "0                         0                   0                        0   \n",
       "1                         0                   0                        0   \n",
       "2                         0                   1                        0   \n",
       "3                         0                   0                        0   \n",
       "4                         1                   1                        1   \n",
       "5                         1                   1                        0   \n",
       "6                         1                   1                        1   \n",
       "7                         1                   1                        1   \n",
       "8                         1                   0                        0   \n",
       "9                         0                   0                        0   \n",
       "\n",
       "  conv_stalker_may_own dealer_req_license bg_check_required  \\\n",
       "0                    0                  1                 0   \n",
       "1                    0                  0                 0   \n",
       "2                    1                  0                 0   \n",
       "3                    0                  0                 0   \n",
       "4                    1                  1                 1   \n",
       "5                    1                  0                 1   \n",
       "6                    1                  1                 1   \n",
       "7                    1                  1                 1   \n",
       "8                    0                  0                 0   \n",
       "9                    0                  0                 0   \n",
       "\n",
       "  concealed_carry_permit_req guns_on_college_campus guns_at_elemen_sch  \\\n",
       "0                          1                      0                  0   \n",
       "1                          0                      0                  1   \n",
       "2                          0                      0                  0   \n",
       "3                          1                      1                  1   \n",
       "4                          1                      1                  0   \n",
       "5                          1                      1                  1   \n",
       "6                          1                      0                  1   \n",
       "7                          1                      0                  1   \n",
       "8                          1                      1                  1   \n",
       "9                          1                      0                  0   \n",
       "\n",
       "  assault_weapon_ban  total_laws  \n",
       "0                  0         2.0  \n",
       "1                  0         2.0  \n",
       "2                  0         3.0  \n",
       "3                  0         4.0  \n",
       "4                  1        13.0  \n",
       "5                  0         8.0  \n",
       "6                  1        13.0  \n",
       "7                  0         9.0  \n",
       "8                  0         7.0  \n",
       "9                  0         3.0  "
      ]
     },
     "execution_count": 14,
     "metadata": {},
     "output_type": "execute_result"
    }
   ],
   "source": [
    "#create a column of the sum of gun laws by state/year\n",
    "\n",
    "df['total_laws']= df[col_list].sum(axis=1)\n",
    "df.head(10)"
   ]
  },
  {
   "cell_type": "code",
   "execution_count": 15,
   "id": "24117cb8",
   "metadata": {},
   "outputs": [
    {
     "data": {
      "text/plain": [
       "count    204.000000\n",
       "mean       6.058824\n",
       "std        3.781791\n",
       "min        0.000000\n",
       "25%        3.000000\n",
       "50%        5.000000\n",
       "75%        8.000000\n",
       "max       15.000000\n",
       "Name: total_laws, dtype: float64"
      ]
     },
     "execution_count": 15,
     "metadata": {},
     "output_type": "execute_result"
    }
   ],
   "source": [
    "#get descriptive stats\n",
    "\n",
    "df['total_laws'].describe()"
   ]
  },
  {
   "cell_type": "code",
   "execution_count": 16,
   "id": "375bbe75",
   "metadata": {},
   "outputs": [
    {
     "data": {
      "text/html": [
       "<div>\n",
       "<style scoped>\n",
       "    .dataframe tbody tr th:only-of-type {\n",
       "        vertical-align: middle;\n",
       "    }\n",
       "\n",
       "    .dataframe tbody tr th {\n",
       "        vertical-align: top;\n",
       "    }\n",
       "\n",
       "    .dataframe thead th {\n",
       "        text-align: right;\n",
       "    }\n",
       "</style>\n",
       "<table border=\"1\" class=\"dataframe\">\n",
       "  <thead>\n",
       "    <tr style=\"text-align: right;\">\n",
       "      <th></th>\n",
       "      <th>state</th>\n",
       "      <th>year</th>\n",
       "      <th>state_control</th>\n",
       "      <th>registration_req</th>\n",
       "      <th>open_carry_legal</th>\n",
       "      <th>open_carry_permit_req</th>\n",
       "      <th>permit_req_purchase</th>\n",
       "      <th>felons_may_own</th>\n",
       "      <th>restraining_order_may_own</th>\n",
       "      <th>dv_offender_may_own</th>\n",
       "      <th>violent_offender_may_own</th>\n",
       "      <th>conv_stalker_may_own</th>\n",
       "      <th>dealer_req_license</th>\n",
       "      <th>bg_check_required</th>\n",
       "      <th>concealed_carry_permit_req</th>\n",
       "      <th>guns_on_college_campus</th>\n",
       "      <th>guns_at_elemen_sch</th>\n",
       "      <th>assault_weapon_ban</th>\n",
       "      <th>total_laws</th>\n",
       "    </tr>\n",
       "  </thead>\n",
       "  <tbody>\n",
       "    <tr>\n",
       "      <th>44</th>\n",
       "      <td>VT</td>\n",
       "      <td>2014</td>\n",
       "      <td>Dem</td>\n",
       "      <td>0</td>\n",
       "      <td>0</td>\n",
       "      <td>0</td>\n",
       "      <td>0</td>\n",
       "      <td>0</td>\n",
       "      <td>0</td>\n",
       "      <td>0</td>\n",
       "      <td>0</td>\n",
       "      <td>0</td>\n",
       "      <td>0</td>\n",
       "      <td>0</td>\n",
       "      <td>0</td>\n",
       "      <td>0</td>\n",
       "      <td>0</td>\n",
       "      <td>0</td>\n",
       "      <td>0.0</td>\n",
       "    </tr>\n",
       "  </tbody>\n",
       "</table>\n",
       "</div>"
      ],
      "text/plain": [
       "   state  year state_control registration_req open_carry_legal  \\\n",
       "44    VT  2014           Dem                0                0   \n",
       "\n",
       "   open_carry_permit_req permit_req_purchase felons_may_own  \\\n",
       "44                     0                   0              0   \n",
       "\n",
       "   restraining_order_may_own dv_offender_may_own violent_offender_may_own  \\\n",
       "44                         0                   0                        0   \n",
       "\n",
       "   conv_stalker_may_own dealer_req_license bg_check_required  \\\n",
       "44                    0                  0                 0   \n",
       "\n",
       "   concealed_carry_permit_req guns_on_college_campus guns_at_elemen_sch  \\\n",
       "44                          0                      0                  0   \n",
       "\n",
       "   assault_weapon_ban  total_laws  \n",
       "44                  0         0.0  "
      ]
     },
     "execution_count": 16,
     "metadata": {},
     "output_type": "execute_result"
    }
   ],
   "source": [
    "#investigate 0 value\n",
    "\n",
    "df.loc[df['total_laws'] == 0]"
   ]
  },
  {
   "cell_type": "markdown",
   "id": "831ceb12",
   "metadata": {},
   "source": [
    "I did some side research as it seemed implausible that VT had none of the laws on the books, but it is true. A bill passed in which some gun control laws were enacted in 2015, which is why the total changes from 0 to 2."
   ]
  },
  {
   "cell_type": "code",
   "execution_count": 17,
   "id": "244e0c52",
   "metadata": {},
   "outputs": [
    {
     "data": {
      "text/plain": [
       "<AxesSubplot:xlabel='total_laws', ylabel='Count'>"
      ]
     },
     "execution_count": 17,
     "metadata": {},
     "output_type": "execute_result"
    },
    {
     "data": {
      "image/png": "[encoded data removed]",
      "text/plain": [
       "<Figure size 640x480 with 1 Axes>"
      ]
     },
     "metadata": {},
     "output_type": "display_data"
    }
   ],
   "source": [
    "#create histogram to determine categories\n",
    "\n",
    "data = df['total_laws']\n",
    "\n",
    "sns.histplot(data, bins = 20, kde = True)\n"
   ]
  },
  {
   "cell_type": "code",
   "execution_count": 18,
   "id": "801e71d1",
   "metadata": {},
   "outputs": [
    {
     "data": {
      "text/plain": [
       "year  total_laws\n",
       "2014  0.0            1\n",
       "      2.0            7\n",
       "      3.0           11\n",
       "      4.0            2\n",
       "      5.0            8\n",
       "      6.0            2\n",
       "      7.0            6\n",
       "      8.0            4\n",
       "      9.0            1\n",
       "      11.0           1\n",
       "      12.0           3\n",
       "      13.0           2\n",
       "      14.0           2\n",
       "      15.0           1\n",
       "2015  1.0            1\n",
       "      2.0            7\n",
       "      3.0            9\n",
       "      4.0            3\n",
       "      5.0            9\n",
       "      6.0            2\n",
       "      7.0            6\n",
       "      8.0            4\n",
       "      9.0            1\n",
       "      11.0           1\n",
       "      12.0           3\n",
       "      13.0           2\n",
       "      14.0           2\n",
       "      15.0           1\n",
       "2016  1.0            2\n",
       "      2.0            6\n",
       "      3.0            8\n",
       "      4.0            5\n",
       "      5.0            8\n",
       "      6.0            2\n",
       "      7.0            7\n",
       "      8.0            3\n",
       "      9.0            1\n",
       "      12.0           4\n",
       "      13.0           2\n",
       "      14.0           2\n",
       "      15.0           1\n",
       "2017  1.0            3\n",
       "      2.0            6\n",
       "      3.0            6\n",
       "      4.0            6\n",
       "      5.0            6\n",
       "      6.0            3\n",
       "      7.0            8\n",
       "      8.0            3\n",
       "      9.0            1\n",
       "      12.0           4\n",
       "      13.0           2\n",
       "      14.0           2\n",
       "      15.0           1\n",
       "dtype: int64"
      ]
     },
     "execution_count": 18,
     "metadata": {},
     "output_type": "execute_result"
    }
   ],
   "source": [
    "df.groupby(['year', 'total_laws']).size()"
   ]
  },
  {
   "cell_type": "code",
   "execution_count": 19,
   "id": "e6e6b0e8",
   "metadata": {},
   "outputs": [
    {
     "data": {
      "text/html": [
       "<div>\n",
       "<style scoped>\n",
       "    .dataframe tbody tr th:only-of-type {\n",
       "        vertical-align: middle;\n",
       "    }\n",
       "\n",
       "    .dataframe tbody tr th {\n",
       "        vertical-align: top;\n",
       "    }\n",
       "\n",
       "    .dataframe thead th {\n",
       "        text-align: right;\n",
       "    }\n",
       "</style>\n",
       "<table border=\"1\" class=\"dataframe\">\n",
       "  <thead>\n",
       "    <tr style=\"text-align: right;\">\n",
       "      <th></th>\n",
       "      <th>min</th>\n",
       "      <th>max</th>\n",
       "      <th>mean</th>\n",
       "    </tr>\n",
       "    <tr>\n",
       "      <th>year</th>\n",
       "      <th></th>\n",
       "      <th></th>\n",
       "      <th></th>\n",
       "    </tr>\n",
       "  </thead>\n",
       "  <tbody>\n",
       "    <tr>\n",
       "      <th>2014</th>\n",
       "      <td>0.0</td>\n",
       "      <td>15.0</td>\n",
       "      <td>6.000000</td>\n",
       "    </tr>\n",
       "    <tr>\n",
       "      <th>2015</th>\n",
       "      <td>1.0</td>\n",
       "      <td>15.0</td>\n",
       "      <td>6.078431</td>\n",
       "    </tr>\n",
       "    <tr>\n",
       "      <th>2016</th>\n",
       "      <td>1.0</td>\n",
       "      <td>15.0</td>\n",
       "      <td>6.058824</td>\n",
       "    </tr>\n",
       "    <tr>\n",
       "      <th>2017</th>\n",
       "      <td>1.0</td>\n",
       "      <td>15.0</td>\n",
       "      <td>6.098039</td>\n",
       "    </tr>\n",
       "  </tbody>\n",
       "</table>\n",
       "</div>"
      ],
      "text/plain": [
       "      min   max      mean\n",
       "year                     \n",
       "2014  0.0  15.0  6.000000\n",
       "2015  1.0  15.0  6.078431\n",
       "2016  1.0  15.0  6.058824\n",
       "2017  1.0  15.0  6.098039"
      ]
     },
     "execution_count": 19,
     "metadata": {},
     "output_type": "execute_result"
    }
   ],
   "source": [
    "#view stats of laws by year\n",
    "\n",
    "df.groupby('year').total_laws.agg(['min', 'max', 'mean'])"
   ]
  },
  {
   "cell_type": "code",
   "execution_count": 20,
   "id": "4763cb5b",
   "metadata": {},
   "outputs": [
    {
     "data": {
      "text/html": [
       "<div>\n",
       "<style scoped>\n",
       "    .dataframe tbody tr th:only-of-type {\n",
       "        vertical-align: middle;\n",
       "    }\n",
       "\n",
       "    .dataframe tbody tr th {\n",
       "        vertical-align: top;\n",
       "    }\n",
       "\n",
       "    .dataframe thead th {\n",
       "        text-align: right;\n",
       "    }\n",
       "</style>\n",
       "<table border=\"1\" class=\"dataframe\">\n",
       "  <thead>\n",
       "    <tr style=\"text-align: right;\">\n",
       "      <th></th>\n",
       "      <th>total_laws</th>\n",
       "    </tr>\n",
       "    <tr>\n",
       "      <th>year</th>\n",
       "      <th></th>\n",
       "    </tr>\n",
       "  </thead>\n",
       "  <tbody>\n",
       "    <tr>\n",
       "      <th>2014</th>\n",
       "      <td>3.0</td>\n",
       "    </tr>\n",
       "    <tr>\n",
       "      <th>2015</th>\n",
       "      <td>3.5</td>\n",
       "    </tr>\n",
       "    <tr>\n",
       "      <th>2016</th>\n",
       "      <td>4.0</td>\n",
       "    </tr>\n",
       "    <tr>\n",
       "      <th>2017</th>\n",
       "      <td>4.0</td>\n",
       "    </tr>\n",
       "  </tbody>\n",
       "</table>\n",
       "</div>"
      ],
      "text/plain": [
       "      total_laws\n",
       "year            \n",
       "2014         3.0\n",
       "2015         3.5\n",
       "2016         4.0\n",
       "2017         4.0"
      ]
     },
     "execution_count": 20,
     "metadata": {},
     "output_type": "execute_result"
    }
   ],
   "source": [
    "#determine 33% quantile by year\n",
    "\n",
    "df_quantile = df[['year', 'total_laws']]\n",
    "df_quantile.groupby('year').quantile(q = 0.33, interpolation = 'linear')"
   ]
  },
  {
   "cell_type": "code",
   "execution_count": 21,
   "id": "9147d80d",
   "metadata": {},
   "outputs": [
    {
     "data": {
      "text/html": [
       "<div>\n",
       "<style scoped>\n",
       "    .dataframe tbody tr th:only-of-type {\n",
       "        vertical-align: middle;\n",
       "    }\n",
       "\n",
       "    .dataframe tbody tr th {\n",
       "        vertical-align: top;\n",
       "    }\n",
       "\n",
       "    .dataframe thead th {\n",
       "        text-align: right;\n",
       "    }\n",
       "</style>\n",
       "<table border=\"1\" class=\"dataframe\">\n",
       "  <thead>\n",
       "    <tr style=\"text-align: right;\">\n",
       "      <th></th>\n",
       "      <th>total_laws</th>\n",
       "    </tr>\n",
       "    <tr>\n",
       "      <th>year</th>\n",
       "      <th></th>\n",
       "    </tr>\n",
       "  </thead>\n",
       "  <tbody>\n",
       "    <tr>\n",
       "      <th>2014</th>\n",
       "      <td>7.0</td>\n",
       "    </tr>\n",
       "    <tr>\n",
       "      <th>2015</th>\n",
       "      <td>7.0</td>\n",
       "    </tr>\n",
       "    <tr>\n",
       "      <th>2016</th>\n",
       "      <td>7.0</td>\n",
       "    </tr>\n",
       "    <tr>\n",
       "      <th>2017</th>\n",
       "      <td>7.0</td>\n",
       "    </tr>\n",
       "  </tbody>\n",
       "</table>\n",
       "</div>"
      ],
      "text/plain": [
       "      total_laws\n",
       "year            \n",
       "2014         7.0\n",
       "2015         7.0\n",
       "2016         7.0\n",
       "2017         7.0"
      ]
     },
     "execution_count": 21,
     "metadata": {},
     "output_type": "execute_result"
    }
   ],
   "source": [
    "#determine 67% quantile by year\n",
    "\n",
    "df_quantile.groupby('year').quantile(q = 0.67, interpolation = 'linear')"
   ]
  },
  {
   "cell_type": "code",
   "execution_count": 22,
   "id": "7cb97cbe",
   "metadata": {},
   "outputs": [
    {
     "data": {
      "text/plain": [
       "Strong     81\n",
       "Weak       67\n",
       "Average    56\n",
       "Name: gun_law_strength, dtype: int64"
      ]
     },
     "execution_count": 22,
     "metadata": {},
     "output_type": "execute_result"
    }
   ],
   "source": [
    "#create flag column based on quantiles\n",
    "\n",
    "df.loc[df['total_laws'] < 4, 'gun_law_strength'] = 'Weak'\n",
    "df.loc[(df['total_laws'] >= 4) & (df['total_laws'] < 7), 'gun_law_strength'] = 'Average'\n",
    "df.loc[df['total_laws'] >= 7, 'gun_law_strength'] = 'Strong'\n",
    "df['gun_law_strength'].value_counts()\n"
   ]
  },
  {
   "cell_type": "code",
   "execution_count": 23,
   "id": "e5fdb838",
   "metadata": {},
   "outputs": [
    {
     "data": {
      "text/plain": [
       "state_control  gun_law_strength\n",
       "Dem            Average              6\n",
       "               Strong              31\n",
       "               Weak                 3\n",
       "Divided        Average             16\n",
       "               Strong              31\n",
       "               Weak                20\n",
       "Rep            Average             34\n",
       "               Strong              19\n",
       "               Weak                44\n",
       "dtype: int64"
      ]
     },
     "execution_count": 23,
     "metadata": {},
     "output_type": "execute_result"
    }
   ],
   "source": [
    "#view categories of strength by pol party\n",
    "\n",
    "df.groupby(['state_control', 'gun_law_strength']).size()"
   ]
  },
  {
   "cell_type": "code",
   "execution_count": 24,
   "id": "31a9d125",
   "metadata": {},
   "outputs": [
    {
     "data": {
      "text/html": [
       "<div>\n",
       "<style scoped>\n",
       "    .dataframe tbody tr th:only-of-type {\n",
       "        vertical-align: middle;\n",
       "    }\n",
       "\n",
       "    .dataframe tbody tr th {\n",
       "        vertical-align: top;\n",
       "    }\n",
       "\n",
       "    .dataframe thead th {\n",
       "        text-align: right;\n",
       "    }\n",
       "</style>\n",
       "<table border=\"1\" class=\"dataframe\">\n",
       "  <thead>\n",
       "    <tr style=\"text-align: right;\">\n",
       "      <th></th>\n",
       "      <th>state</th>\n",
       "      <th>year</th>\n",
       "      <th>state_control</th>\n",
       "      <th>registration_req</th>\n",
       "      <th>open_carry_legal</th>\n",
       "      <th>open_carry_permit_req</th>\n",
       "      <th>permit_req_purchase</th>\n",
       "      <th>felons_may_own</th>\n",
       "      <th>restraining_order_may_own</th>\n",
       "      <th>dv_offender_may_own</th>\n",
       "      <th>violent_offender_may_own</th>\n",
       "      <th>conv_stalker_may_own</th>\n",
       "      <th>dealer_req_license</th>\n",
       "      <th>bg_check_required</th>\n",
       "      <th>concealed_carry_permit_req</th>\n",
       "      <th>guns_on_college_campus</th>\n",
       "      <th>guns_at_elemen_sch</th>\n",
       "      <th>assault_weapon_ban</th>\n",
       "      <th>total_laws</th>\n",
       "      <th>gun_law_strength</th>\n",
       "    </tr>\n",
       "  </thead>\n",
       "  <tbody>\n",
       "    <tr>\n",
       "      <th>0</th>\n",
       "      <td>AL</td>\n",
       "      <td>2014</td>\n",
       "      <td>Rep</td>\n",
       "      <td>0</td>\n",
       "      <td>0</td>\n",
       "      <td>0</td>\n",
       "      <td>0</td>\n",
       "      <td>0</td>\n",
       "      <td>0</td>\n",
       "      <td>0</td>\n",
       "      <td>0</td>\n",
       "      <td>0</td>\n",
       "      <td>1</td>\n",
       "      <td>0</td>\n",
       "      <td>1</td>\n",
       "      <td>0</td>\n",
       "      <td>0</td>\n",
       "      <td>0</td>\n",
       "      <td>2.0</td>\n",
       "      <td>Weak</td>\n",
       "    </tr>\n",
       "    <tr>\n",
       "      <th>1</th>\n",
       "      <td>AK</td>\n",
       "      <td>2014</td>\n",
       "      <td>Rep</td>\n",
       "      <td>0</td>\n",
       "      <td>0</td>\n",
       "      <td>0</td>\n",
       "      <td>0</td>\n",
       "      <td>1</td>\n",
       "      <td>0</td>\n",
       "      <td>0</td>\n",
       "      <td>0</td>\n",
       "      <td>0</td>\n",
       "      <td>0</td>\n",
       "      <td>0</td>\n",
       "      <td>0</td>\n",
       "      <td>0</td>\n",
       "      <td>1</td>\n",
       "      <td>0</td>\n",
       "      <td>2.0</td>\n",
       "      <td>Weak</td>\n",
       "    </tr>\n",
       "    <tr>\n",
       "      <th>2</th>\n",
       "      <td>AZ</td>\n",
       "      <td>2014</td>\n",
       "      <td>Rep</td>\n",
       "      <td>0</td>\n",
       "      <td>0</td>\n",
       "      <td>0</td>\n",
       "      <td>0</td>\n",
       "      <td>1</td>\n",
       "      <td>0</td>\n",
       "      <td>1</td>\n",
       "      <td>0</td>\n",
       "      <td>1</td>\n",
       "      <td>0</td>\n",
       "      <td>0</td>\n",
       "      <td>0</td>\n",
       "      <td>0</td>\n",
       "      <td>0</td>\n",
       "      <td>0</td>\n",
       "      <td>3.0</td>\n",
       "      <td>Weak</td>\n",
       "    </tr>\n",
       "    <tr>\n",
       "      <th>3</th>\n",
       "      <td>AR</td>\n",
       "      <td>2014</td>\n",
       "      <td>Divided</td>\n",
       "      <td>0</td>\n",
       "      <td>0</td>\n",
       "      <td>0</td>\n",
       "      <td>0</td>\n",
       "      <td>1</td>\n",
       "      <td>0</td>\n",
       "      <td>0</td>\n",
       "      <td>0</td>\n",
       "      <td>0</td>\n",
       "      <td>0</td>\n",
       "      <td>0</td>\n",
       "      <td>1</td>\n",
       "      <td>1</td>\n",
       "      <td>1</td>\n",
       "      <td>0</td>\n",
       "      <td>4.0</td>\n",
       "      <td>Average</td>\n",
       "    </tr>\n",
       "    <tr>\n",
       "      <th>4</th>\n",
       "      <td>CA</td>\n",
       "      <td>2014</td>\n",
       "      <td>Dem</td>\n",
       "      <td>0</td>\n",
       "      <td>1</td>\n",
       "      <td>1</td>\n",
       "      <td>1</td>\n",
       "      <td>1</td>\n",
       "      <td>1</td>\n",
       "      <td>1</td>\n",
       "      <td>1</td>\n",
       "      <td>1</td>\n",
       "      <td>1</td>\n",
       "      <td>1</td>\n",
       "      <td>1</td>\n",
       "      <td>1</td>\n",
       "      <td>0</td>\n",
       "      <td>1</td>\n",
       "      <td>13.0</td>\n",
       "      <td>Strong</td>\n",
       "    </tr>\n",
       "  </tbody>\n",
       "</table>\n",
       "</div>"
      ],
      "text/plain": [
       "  state  year state_control registration_req open_carry_legal  \\\n",
       "0    AL  2014           Rep                0                0   \n",
       "1    AK  2014           Rep                0                0   \n",
       "2    AZ  2014           Rep                0                0   \n",
       "3    AR  2014       Divided                0                0   \n",
       "4    CA  2014           Dem                0                1   \n",
       "\n",
       "  open_carry_permit_req permit_req_purchase felons_may_own  \\\n",
       "0                     0                   0              0   \n",
       "1                     0                   0              1   \n",
       "2                     0                   0              1   \n",
       "3                     0                   0              1   \n",
       "4                     1                   1              1   \n",
       "\n",
       "  restraining_order_may_own dv_offender_may_own violent_offender_may_own  \\\n",
       "0                         0                   0                        0   \n",
       "1                         0                   0                        0   \n",
       "2                         0                   1                        0   \n",
       "3                         0                   0                        0   \n",
       "4                         1                   1                        1   \n",
       "\n",
       "  conv_stalker_may_own dealer_req_license bg_check_required  \\\n",
       "0                    0                  1                 0   \n",
       "1                    0                  0                 0   \n",
       "2                    1                  0                 0   \n",
       "3                    0                  0                 0   \n",
       "4                    1                  1                 1   \n",
       "\n",
       "  concealed_carry_permit_req guns_on_college_campus guns_at_elemen_sch  \\\n",
       "0                          1                      0                  0   \n",
       "1                          0                      0                  1   \n",
       "2                          0                      0                  0   \n",
       "3                          1                      1                  1   \n",
       "4                          1                      1                  0   \n",
       "\n",
       "  assault_weapon_ban  total_laws gun_law_strength  \n",
       "0                  0         2.0             Weak  \n",
       "1                  0         2.0             Weak  \n",
       "2                  0         3.0             Weak  \n",
       "3                  0         4.0          Average  \n",
       "4                  1        13.0           Strong  "
      ]
     },
     "execution_count": 24,
     "metadata": {},
     "output_type": "execute_result"
    }
   ],
   "source": [
    "df.head()"
   ]
  },
  {
   "cell_type": "code",
   "execution_count": 25,
   "id": "f172af4c",
   "metadata": {},
   "outputs": [
    {
     "data": {
      "text/plain": [
       "Index(['state', 'year', 'state_control', 'registration_req',\n",
       "       'open_carry_legal', 'open_carry_permit_req', 'permit_req_purchase',\n",
       "       'felons_may_own', 'restraining_order_may_own', 'dv_offender_may_own',\n",
       "       'violent_offender_may_own', 'conv_stalker_may_own',\n",
       "       'dealer_req_license', 'bg_check_required', 'concealed_carry_permit_req',\n",
       "       'guns_on_college_campus', 'guns_at_elemen_sch', 'assault_weapon_ban',\n",
       "       'total_laws', 'gun_law_strength'],\n",
       "      dtype='object')"
      ]
     },
     "execution_count": 25,
     "metadata": {},
     "output_type": "execute_result"
    }
   ],
   "source": [
    "#remove unnecessary cols\n",
    "\n",
    "df.columns"
   ]
  },
  {
   "cell_type": "code",
   "execution_count": 26,
   "id": "643224dc",
   "metadata": {},
   "outputs": [
    {
     "data": {
      "text/html": [
       "<div>\n",
       "<style scoped>\n",
       "    .dataframe tbody tr th:only-of-type {\n",
       "        vertical-align: middle;\n",
       "    }\n",
       "\n",
       "    .dataframe tbody tr th {\n",
       "        vertical-align: top;\n",
       "    }\n",
       "\n",
       "    .dataframe thead th {\n",
       "        text-align: right;\n",
       "    }\n",
       "</style>\n",
       "<table border=\"1\" class=\"dataframe\">\n",
       "  <thead>\n",
       "    <tr style=\"text-align: right;\">\n",
       "      <th></th>\n",
       "      <th>state</th>\n",
       "      <th>year</th>\n",
       "      <th>state_control</th>\n",
       "      <th>total_laws</th>\n",
       "      <th>gun_law_strength</th>\n",
       "    </tr>\n",
       "  </thead>\n",
       "  <tbody>\n",
       "    <tr>\n",
       "      <th>0</th>\n",
       "      <td>AL</td>\n",
       "      <td>2014</td>\n",
       "      <td>Rep</td>\n",
       "      <td>2.0</td>\n",
       "      <td>Weak</td>\n",
       "    </tr>\n",
       "    <tr>\n",
       "      <th>1</th>\n",
       "      <td>AK</td>\n",
       "      <td>2014</td>\n",
       "      <td>Rep</td>\n",
       "      <td>2.0</td>\n",
       "      <td>Weak</td>\n",
       "    </tr>\n",
       "    <tr>\n",
       "      <th>2</th>\n",
       "      <td>AZ</td>\n",
       "      <td>2014</td>\n",
       "      <td>Rep</td>\n",
       "      <td>3.0</td>\n",
       "      <td>Weak</td>\n",
       "    </tr>\n",
       "    <tr>\n",
       "      <th>3</th>\n",
       "      <td>AR</td>\n",
       "      <td>2014</td>\n",
       "      <td>Divided</td>\n",
       "      <td>4.0</td>\n",
       "      <td>Average</td>\n",
       "    </tr>\n",
       "    <tr>\n",
       "      <th>4</th>\n",
       "      <td>CA</td>\n",
       "      <td>2014</td>\n",
       "      <td>Dem</td>\n",
       "      <td>13.0</td>\n",
       "      <td>Strong</td>\n",
       "    </tr>\n",
       "  </tbody>\n",
       "</table>\n",
       "</div>"
      ],
      "text/plain": [
       "  state  year state_control  total_laws gun_law_strength\n",
       "0    AL  2014           Rep         2.0             Weak\n",
       "1    AK  2014           Rep         2.0             Weak\n",
       "2    AZ  2014           Rep         3.0             Weak\n",
       "3    AR  2014       Divided         4.0          Average\n",
       "4    CA  2014           Dem        13.0           Strong"
      ]
     },
     "execution_count": 26,
     "metadata": {},
     "output_type": "execute_result"
    }
   ],
   "source": [
    "df.drop(columns = ['registration_req',\n",
    "       'open_carry_legal', 'open_carry_permit_req', 'permit_req_purchase',\n",
    "       'felons_may_own', 'restraining_order_may_own', 'dv_offender_may_own',\n",
    "       'violent_offender_may_own', 'conv_stalker_may_own',\n",
    "       'dealer_req_license', 'bg_check_required', 'concealed_carry_permit_req',\n",
    "       'guns_on_college_campus', 'guns_at_elemen_sch', 'assault_weapon_ban'], inplace = True)\n",
    "df.head()"
   ]
  },
  {
   "cell_type": "markdown",
   "id": "93a7d876",
   "metadata": {},
   "source": [
    "## 04. Export DF"
   ]
  },
  {
   "cell_type": "code",
   "execution_count": 27,
   "id": "1ed77834",
   "metadata": {},
   "outputs": [],
   "source": [
    "df.to_csv(os.path.join(path, 'Data', 'Final Data', 'party_laws.csv'), index = False)"
   ]
  }
 ],
 "metadata": {
  "kernelspec": {
   "display_name": "Python 3 (ipykernel)",
   "language": "python",
   "name": "python3"
  },
  "language_info": {
   "codemirror_mode": {
    "name": "ipython",
    "version": 3
   },
   "file_extension": ".py",
   "mimetype": "text/x-python",
   "name": "python",
   "nbconvert_exporter": "python",
   "pygments_lexer": "ipython3",
   "version": "3.9.13"
  }
 },
 "nbformat": 4,
 "nbformat_minor": 5
}
