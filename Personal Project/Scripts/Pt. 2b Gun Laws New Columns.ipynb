{
 "cells": [
  {
   "cell_type": "markdown",
   "id": "d175d70a",
   "metadata": {},
   "source": [
    "## 01. Import Libraries and Data"
   ]
  },
  {
   "cell_type": "code",
   "execution_count": 1,
   "id": "1f469b02",
   "metadata": {},
   "outputs": [],
   "source": [
    "#import libraries\n",
    "\n",
    "import pandas as pd\n",
    "import numpy as np\n",
    "import os"
   ]
  },
  {
   "cell_type": "code",
   "execution_count": 2,
   "id": "543b04df",
   "metadata": {},
   "outputs": [
    {
     "data": {
      "text/html": [
       "<div>\n",
       "<style scoped>\n",
       "    .dataframe tbody tr th:only-of-type {\n",
       "        vertical-align: middle;\n",
       "    }\n",
       "\n",
       "    .dataframe tbody tr th {\n",
       "        vertical-align: top;\n",
       "    }\n",
       "\n",
       "    .dataframe thead th {\n",
       "        text-align: right;\n",
       "    }\n",
       "</style>\n",
       "<table border=\"1\" class=\"dataframe\">\n",
       "  <thead>\n",
       "    <tr style=\"text-align: right;\">\n",
       "      <th></th>\n",
       "      <th>state</th>\n",
       "      <th>year</th>\n",
       "      <th>felony</th>\n",
       "      <th>violent</th>\n",
       "      <th>violenth</th>\n",
       "      <th>violentpartial</th>\n",
       "      <th>dealer</th>\n",
       "      <th>dealerh</th>\n",
       "      <th>permit</th>\n",
       "      <th>permith</th>\n",
       "      <th>...</th>\n",
       "      <th>opencarryh</th>\n",
       "      <th>opencarryl</th>\n",
       "      <th>opencarrypermith</th>\n",
       "      <th>opencarrypermitl</th>\n",
       "      <th>permitconcealed</th>\n",
       "      <th>ccbackground</th>\n",
       "      <th>mcdv</th>\n",
       "      <th>dvro</th>\n",
       "      <th>exparte</th>\n",
       "      <th>stalking</th>\n",
       "    </tr>\n",
       "  </thead>\n",
       "  <tbody>\n",
       "    <tr>\n",
       "      <th>0</th>\n",
       "      <td>AL</td>\n",
       "      <td>2014</td>\n",
       "      <td>0</td>\n",
       "      <td>0</td>\n",
       "      <td>0</td>\n",
       "      <td>0</td>\n",
       "      <td>0</td>\n",
       "      <td>1</td>\n",
       "      <td>0</td>\n",
       "      <td>0</td>\n",
       "      <td>...</td>\n",
       "      <td>0</td>\n",
       "      <td>0</td>\n",
       "      <td>0</td>\n",
       "      <td>0</td>\n",
       "      <td>1</td>\n",
       "      <td>1</td>\n",
       "      <td>0</td>\n",
       "      <td>0</td>\n",
       "      <td>0</td>\n",
       "      <td>0</td>\n",
       "    </tr>\n",
       "    <tr>\n",
       "      <th>1</th>\n",
       "      <td>AK</td>\n",
       "      <td>2014</td>\n",
       "      <td>1</td>\n",
       "      <td>0</td>\n",
       "      <td>0</td>\n",
       "      <td>0</td>\n",
       "      <td>0</td>\n",
       "      <td>0</td>\n",
       "      <td>0</td>\n",
       "      <td>0</td>\n",
       "      <td>...</td>\n",
       "      <td>0</td>\n",
       "      <td>0</td>\n",
       "      <td>0</td>\n",
       "      <td>0</td>\n",
       "      <td>0</td>\n",
       "      <td>0</td>\n",
       "      <td>0</td>\n",
       "      <td>0</td>\n",
       "      <td>0</td>\n",
       "      <td>0</td>\n",
       "    </tr>\n",
       "    <tr>\n",
       "      <th>2</th>\n",
       "      <td>AZ</td>\n",
       "      <td>2014</td>\n",
       "      <td>1</td>\n",
       "      <td>0</td>\n",
       "      <td>0</td>\n",
       "      <td>0</td>\n",
       "      <td>0</td>\n",
       "      <td>0</td>\n",
       "      <td>0</td>\n",
       "      <td>0</td>\n",
       "      <td>...</td>\n",
       "      <td>0</td>\n",
       "      <td>0</td>\n",
       "      <td>0</td>\n",
       "      <td>0</td>\n",
       "      <td>0</td>\n",
       "      <td>0</td>\n",
       "      <td>1</td>\n",
       "      <td>0</td>\n",
       "      <td>0</td>\n",
       "      <td>1</td>\n",
       "    </tr>\n",
       "    <tr>\n",
       "      <th>3</th>\n",
       "      <td>AR</td>\n",
       "      <td>2014</td>\n",
       "      <td>1</td>\n",
       "      <td>0</td>\n",
       "      <td>0</td>\n",
       "      <td>0</td>\n",
       "      <td>0</td>\n",
       "      <td>0</td>\n",
       "      <td>0</td>\n",
       "      <td>0</td>\n",
       "      <td>...</td>\n",
       "      <td>0</td>\n",
       "      <td>0</td>\n",
       "      <td>0</td>\n",
       "      <td>0</td>\n",
       "      <td>1</td>\n",
       "      <td>1</td>\n",
       "      <td>0</td>\n",
       "      <td>0</td>\n",
       "      <td>0</td>\n",
       "      <td>0</td>\n",
       "    </tr>\n",
       "    <tr>\n",
       "      <th>4</th>\n",
       "      <td>CA</td>\n",
       "      <td>2014</td>\n",
       "      <td>1</td>\n",
       "      <td>1</td>\n",
       "      <td>1</td>\n",
       "      <td>1</td>\n",
       "      <td>1</td>\n",
       "      <td>1</td>\n",
       "      <td>0</td>\n",
       "      <td>1</td>\n",
       "      <td>...</td>\n",
       "      <td>0</td>\n",
       "      <td>1</td>\n",
       "      <td>1</td>\n",
       "      <td>1</td>\n",
       "      <td>1</td>\n",
       "      <td>1</td>\n",
       "      <td>1</td>\n",
       "      <td>1</td>\n",
       "      <td>1</td>\n",
       "      <td>1</td>\n",
       "    </tr>\n",
       "  </tbody>\n",
       "</table>\n",
       "<p>5 rows × 43 columns</p>\n",
       "</div>"
      ],
      "text/plain": [
       "  state  year  felony  violent  violenth  violentpartial  dealer  dealerh  \\\n",
       "0    AL  2014       0        0         0               0       0        1   \n",
       "1    AK  2014       1        0         0               0       0        0   \n",
       "2    AZ  2014       1        0         0               0       0        0   \n",
       "3    AR  2014       1        0         0               0       0        0   \n",
       "4    CA  2014       1        1         1               1       1        1   \n",
       "\n",
       "   permit  permith  ...  opencarryh  opencarryl  opencarrypermith  \\\n",
       "0       0        0  ...           0           0                 0   \n",
       "1       0        0  ...           0           0                 0   \n",
       "2       0        0  ...           0           0                 0   \n",
       "3       0        0  ...           0           0                 0   \n",
       "4       0        1  ...           0           1                 1   \n",
       "\n",
       "   opencarrypermitl  permitconcealed  ccbackground  mcdv  dvro  exparte  \\\n",
       "0                 0                1             1     0     0        0   \n",
       "1                 0                0             0     0     0        0   \n",
       "2                 0                0             0     1     0        0   \n",
       "3                 0                1             1     0     0        0   \n",
       "4                 1                1             1     1     1        1   \n",
       "\n",
       "   stalking  \n",
       "0         0  \n",
       "1         0  \n",
       "2         1  \n",
       "3         0  \n",
       "4         1  \n",
       "\n",
       "[5 rows x 43 columns]"
      ]
     },
     "execution_count": 2,
     "metadata": {},
     "output_type": "execute_result"
    }
   ],
   "source": [
    "#import gun law data\n",
    "\n",
    "path = r'/Users/juliewhitton/Desktop/Personal Project/'\n",
    "df = pd.read_csv(os.path.join(path, 'Data', 'Intermediary Data', 'gun_laws_clean.csv'))\n",
    "df.head()"
   ]
  },
  {
   "cell_type": "code",
   "execution_count": 3,
   "id": "02acf657",
   "metadata": {},
   "outputs": [
    {
     "data": {
      "text/plain": [
       "(200, 43)"
      ]
     },
     "execution_count": 3,
     "metadata": {},
     "output_type": "execute_result"
    }
   ],
   "source": [
    "df.shape"
   ]
  },
  {
   "cell_type": "markdown",
   "id": "5e96206b",
   "metadata": {},
   "source": [
    "## 02. Create New Columns"
   ]
  },
  {
   "cell_type": "code",
   "execution_count": 4,
   "id": "f331b689",
   "metadata": {},
   "outputs": [],
   "source": [
    "#create new col 'registration_req'\n",
    "\n",
    "df.loc[(df['registration'] == 1) | (df['registrationh'] == 1), 'registration_req'] = 'Yes'\n",
    "df.loc[(df['registration'] == 0) & (df['registrationh'] == 0), 'registration_req'] = 'No'\n"
   ]
  },
  {
   "cell_type": "code",
   "execution_count": 5,
   "id": "adf69504",
   "metadata": {},
   "outputs": [
    {
     "data": {
      "text/plain": [
       "No     188\n",
       "Yes     12\n",
       "Name: registration_req, dtype: int64"
      ]
     },
     "execution_count": 5,
     "metadata": {},
     "output_type": "execute_result"
    }
   ],
   "source": [
    "df['registration_req'].value_counts()"
   ]
  },
  {
   "cell_type": "code",
   "execution_count": 6,
   "id": "4d6fdd24",
   "metadata": {},
   "outputs": [],
   "source": [
    "#remove reg cols\n",
    "\n",
    "df.drop(columns = ['registration', 'registrationh'], inplace = True)"
   ]
  },
  {
   "cell_type": "code",
   "execution_count": 7,
   "id": "31c237d7",
   "metadata": {},
   "outputs": [],
   "source": [
    "#create new col open_carry_legal\n",
    "\n",
    "df.loc[(df['opencarryh'] == 1) | (df['opencarryl'] == 1), 'open_carry_legal'] = 'No'\n",
    "df.loc[(df['opencarryh'] == 0) & (df['opencarryl'] == 0), 'open_carry_legal'] = 'Yes'\n"
   ]
  },
  {
   "cell_type": "code",
   "execution_count": 8,
   "id": "9135062d",
   "metadata": {},
   "outputs": [
    {
     "data": {
      "text/plain": [
       "Yes    166\n",
       "No      34\n",
       "Name: open_carry_legal, dtype: int64"
      ]
     },
     "execution_count": 8,
     "metadata": {},
     "output_type": "execute_result"
    }
   ],
   "source": [
    "df['open_carry_legal'].value_counts()"
   ]
  },
  {
   "cell_type": "code",
   "execution_count": 9,
   "id": "1e959650",
   "metadata": {},
   "outputs": [],
   "source": [
    "#create new col open_carry_permit_req\n",
    "\n",
    "df.loc[(df['opencarrypermith'] == 1) | (df['opencarrypermitl'] == 1), 'open_carry_permit_req'] = 'Yes'\n",
    "df.loc[(df['opencarrypermith'] == 0) & (df['opencarrypermitl'] == 0), 'open_carry_permit_req'] = 'No'\n"
   ]
  },
  {
   "cell_type": "code",
   "execution_count": 10,
   "id": "8a3fce2f",
   "metadata": {},
   "outputs": [
    {
     "data": {
      "text/plain": [
       "No     124\n",
       "Yes     76\n",
       "Name: open_carry_permit_req, dtype: int64"
      ]
     },
     "execution_count": 10,
     "metadata": {},
     "output_type": "execute_result"
    }
   ],
   "source": [
    "df['open_carry_permit_req'].value_counts()"
   ]
  },
  {
   "cell_type": "code",
   "execution_count": 11,
   "id": "fa4a779a",
   "metadata": {},
   "outputs": [],
   "source": [
    "#create new col permit_req_purchase\n",
    "\n",
    "df.loc[(df['permit'] == 1) | (df['permith'] == 1), 'permit_req_purchase'] = 'Yes'\n",
    "df.loc[(df['permit'] == 0) & (df['permith'] == 0), 'permit_req_purchase'] = 'No'\n"
   ]
  },
  {
   "cell_type": "code",
   "execution_count": 12,
   "id": "61b8dc75",
   "metadata": {},
   "outputs": [
    {
     "data": {
      "text/plain": [
       "No     148\n",
       "Yes     52\n",
       "Name: permit_req_purchase, dtype: int64"
      ]
     },
     "execution_count": 12,
     "metadata": {},
     "output_type": "execute_result"
    }
   ],
   "source": [
    "df['permit_req_purchase'].value_counts()"
   ]
  },
  {
   "cell_type": "code",
   "execution_count": 13,
   "id": "2c938355",
   "metadata": {},
   "outputs": [],
   "source": [
    "#create new col felons_may_own\n",
    "\n",
    "df.loc[(df['felony'] == 1), 'felons_may_own'] = 'No'\n",
    "df.loc[(df['felony'] == 0), 'felons_may_own'] = 'Yes'"
   ]
  },
  {
   "cell_type": "code",
   "execution_count": 14,
   "id": "6d6f02c0",
   "metadata": {},
   "outputs": [
    {
     "data": {
      "text/plain": [
       "No     148\n",
       "Yes     52\n",
       "Name: felons_may_own, dtype: int64"
      ]
     },
     "execution_count": 14,
     "metadata": {},
     "output_type": "execute_result"
    }
   ],
   "source": [
    "df['felons_may_own'].value_counts()"
   ]
  },
  {
   "cell_type": "code",
   "execution_count": 15,
   "id": "1341cc00",
   "metadata": {},
   "outputs": [],
   "source": [
    "#create new col restraining_order_may_own\n",
    "\n",
    "df.loc[(df['dvro'] == 1) | (df['exparte'] == 1), 'restraining_order_may_own'] = 'No'\n",
    "df.loc[(df['dvro'] == 0) & (df['exparte'] == 0), 'restraining_order_may_own'] = 'Yes'"
   ]
  },
  {
   "cell_type": "code",
   "execution_count": 16,
   "id": "8b52fa7f",
   "metadata": {},
   "outputs": [
    {
     "data": {
      "text/plain": [
       "Yes    100\n",
       "No     100\n",
       "Name: restraining_order_may_own, dtype: int64"
      ]
     },
     "execution_count": 16,
     "metadata": {},
     "output_type": "execute_result"
    }
   ],
   "source": [
    "df['restraining_order_may_own'].value_counts()"
   ]
  },
  {
   "cell_type": "code",
   "execution_count": 17,
   "id": "d1663f84",
   "metadata": {},
   "outputs": [],
   "source": [
    "#create new col dv_offender_may_own\n",
    "\n",
    "df.loc[(df['mcdv'] == 1), 'dv_offender_may_own'] = 'No'\n",
    "df.loc[(df['mcdv'] == 0), 'dv_offender_may_own'] = 'Yes'"
   ]
  },
  {
   "cell_type": "code",
   "execution_count": 18,
   "id": "1a026dc8",
   "metadata": {},
   "outputs": [
    {
     "data": {
      "text/plain": [
       "No     104\n",
       "Yes     96\n",
       "Name: dv_offender_may_own, dtype: int64"
      ]
     },
     "execution_count": 18,
     "metadata": {},
     "output_type": "execute_result"
    }
   ],
   "source": [
    "df['dv_offender_may_own'].value_counts()"
   ]
  },
  {
   "cell_type": "code",
   "execution_count": 19,
   "id": "beda8cca",
   "metadata": {},
   "outputs": [],
   "source": [
    "#create new col for violent_offender_may_own\n",
    "\n",
    "df.loc[(df['violent'] == 1) | (df['violenth'] == 1) | (df['violentpartial'] == 1), 'violent_offender_may_own'] = 'No'\n",
    "df.loc[(df['violent'] == 0) & (df['violenth'] == 0) & (df['violentpartial'] == 0), 'violent_offender_may_own'] = 'Yes'"
   ]
  },
  {
   "cell_type": "code",
   "execution_count": 20,
   "id": "f64c160e",
   "metadata": {},
   "outputs": [
    {
     "data": {
      "text/plain": [
       "Yes    136\n",
       "No      64\n",
       "Name: violent_offender_may_own, dtype: int64"
      ]
     },
     "execution_count": 20,
     "metadata": {},
     "output_type": "execute_result"
    }
   ],
   "source": [
    "df['violent_offender_may_own'].value_counts()"
   ]
  },
  {
   "cell_type": "code",
   "execution_count": 21,
   "id": "65f0aa93",
   "metadata": {},
   "outputs": [],
   "source": [
    "#create new col for conv_stalker_may_own\n",
    "\n",
    "df.loc[(df['stalking'] == 1), 'conv_stalker_may_own'] = 'No'\n",
    "df.loc[(df['stalking'] == 0), 'conv_stalker_may_own'] = 'Yes'\n"
   ]
  },
  {
   "cell_type": "code",
   "execution_count": 22,
   "id": "3e691a95",
   "metadata": {},
   "outputs": [
    {
     "data": {
      "text/plain": [
       "Yes    139\n",
       "No      61\n",
       "Name: conv_stalker_may_own, dtype: int64"
      ]
     },
     "execution_count": 22,
     "metadata": {},
     "output_type": "execute_result"
    }
   ],
   "source": [
    "df['conv_stalker_may_own'].value_counts()"
   ]
  },
  {
   "cell_type": "code",
   "execution_count": 23,
   "id": "27fb25dc",
   "metadata": {},
   "outputs": [],
   "source": [
    "#create new col for dealer_req_license\n",
    "\n",
    "df.loc[(df['dealer'] == 1) | (df['dealerh'] == 1), 'dealer_req_license'] = 'Yes'\n",
    "df.loc[(df['dealer'] == 0) & (df['dealerh'] == 0), 'dealer_req_license'] = 'No'"
   ]
  },
  {
   "cell_type": "code",
   "execution_count": 24,
   "id": "7ceb4713",
   "metadata": {},
   "outputs": [
    {
     "data": {
      "text/plain": [
       "No     144\n",
       "Yes     56\n",
       "Name: dealer_req_license, dtype: int64"
      ]
     },
     "execution_count": 24,
     "metadata": {},
     "output_type": "execute_result"
    }
   ],
   "source": [
    "df['dealer_req_license'].value_counts()"
   ]
  },
  {
   "cell_type": "code",
   "execution_count": 25,
   "id": "b820b430",
   "metadata": {},
   "outputs": [],
   "source": [
    "#create new col bg_check_required\n",
    "\n",
    "df.loc[(df['universal'] == 1) | (df['universalh'] == 1) | (df['gunshow'] == 1) | (df['gunshowh'] == 1) | \n",
    "       (df['universalpermit'] == 1) | (df['universalpermith'] == 1) | (df['statechecks'] == 1)\n",
    "       | (df['statechecksh'] == 1), 'bg_check_required'] = 'Yes'\n",
    "df.loc[(df['universal'] == 0) & (df['universalh'] == 0) & (df['gunshow'] == 0) & (df['gunshowh'] == 0) &\n",
    "       (df['universalpermit'] == 0) & (df['universalpermith'] == 0) & (df['statechecks'] == 0)\n",
    "       & (df['statechecksh'] == 0), 'bg_check_required'] = 'No'"
   ]
  },
  {
   "cell_type": "code",
   "execution_count": 26,
   "id": "34787628",
   "metadata": {},
   "outputs": [
    {
     "data": {
      "text/plain": [
       "No     127\n",
       "Yes     73\n",
       "Name: bg_check_required, dtype: int64"
      ]
     },
     "execution_count": 26,
     "metadata": {},
     "output_type": "execute_result"
    }
   ],
   "source": [
    "df['bg_check_required'].value_counts()"
   ]
  },
  {
   "cell_type": "code",
   "execution_count": 27,
   "id": "0708d883",
   "metadata": {},
   "outputs": [],
   "source": [
    "#create new col for concealed_carry_permit_req\n",
    "\n",
    "df.loc[(df['permitconcealed'] == 1), 'concealed_carry_permit_req'] = 'Yes'\n",
    "df.loc[(df['permitconcealed'] == 0), 'concealed_carry_permit_req'] = 'No'\n"
   ]
  },
  {
   "cell_type": "code",
   "execution_count": 28,
   "id": "721b4ac8",
   "metadata": {},
   "outputs": [
    {
     "data": {
      "text/plain": [
       "Yes    168\n",
       "No      32\n",
       "Name: concealed_carry_permit_req, dtype: int64"
      ]
     },
     "execution_count": 28,
     "metadata": {},
     "output_type": "execute_result"
    }
   ],
   "source": [
    "df['concealed_carry_permit_req'].value_counts()"
   ]
  },
  {
   "cell_type": "code",
   "execution_count": 29,
   "id": "98ba91ae",
   "metadata": {},
   "outputs": [],
   "source": [
    "#create new col for guns_on_college_campus\n",
    "\n",
    "df.loc[(df['college'] == 1) | (df['collegeconcealed'] == 1), 'guns_on_college_campus'] = 'No'\n",
    "df.loc[(df['college'] == 0) & (df['collegeconcealed'] == 0), 'guns_on_college_campus'] = 'Yes'"
   ]
  },
  {
   "cell_type": "code",
   "execution_count": 30,
   "id": "b1fba107",
   "metadata": {},
   "outputs": [
    {
     "data": {
      "text/plain": [
       "Yes    128\n",
       "No      72\n",
       "Name: guns_on_college_campus, dtype: int64"
      ]
     },
     "execution_count": 30,
     "metadata": {},
     "output_type": "execute_result"
    }
   ],
   "source": [
    "df['guns_on_college_campus'].value_counts()"
   ]
  },
  {
   "cell_type": "code",
   "execution_count": 31,
   "id": "7f6bbaea",
   "metadata": {},
   "outputs": [],
   "source": [
    "#create new col for guns_at_elemen_sch\n",
    "\n",
    "df.loc[(df['elementary'] == 1), 'guns_at_elemen_sch'] = 'No'\n",
    "df.loc[(df['elementary'] == 0), 'guns_at_elemen_sch'] = 'Yes'\n"
   ]
  },
  {
   "cell_type": "code",
   "execution_count": 32,
   "id": "ab0827ef",
   "metadata": {},
   "outputs": [
    {
     "data": {
      "text/plain": [
       "No     136\n",
       "Yes     64\n",
       "Name: guns_at_elemen_sch, dtype: int64"
      ]
     },
     "execution_count": 32,
     "metadata": {},
     "output_type": "execute_result"
    }
   ],
   "source": [
    "df['guns_at_elemen_sch'].value_counts()"
   ]
  },
  {
   "cell_type": "code",
   "execution_count": 33,
   "id": "b6793916",
   "metadata": {},
   "outputs": [],
   "source": [
    "#create new col assault_weapon_ban\n",
    "\n",
    "df.loc[(df['assault'] == 1) | (df['onefeature'] == 1) | (df['assaultlist'] == 1), 'assault_weapon_ban'] = 'Yes'\n",
    "df.loc[(df['assault'] == 0) & (df['onefeature'] == 0) & (df['assaultlist'] == 0), 'assault_weapon_ban'] = 'No'"
   ]
  },
  {
   "cell_type": "code",
   "execution_count": 34,
   "id": "8154a1a9",
   "metadata": {},
   "outputs": [
    {
     "data": {
      "text/plain": [
       "No     176\n",
       "Yes     24\n",
       "Name: assault_weapon_ban, dtype: int64"
      ]
     },
     "execution_count": 34,
     "metadata": {},
     "output_type": "execute_result"
    }
   ],
   "source": [
    "df['assault_weapon_ban'].value_counts()"
   ]
  },
  {
   "cell_type": "code",
   "execution_count": 35,
   "id": "364b7e6c",
   "metadata": {},
   "outputs": [
    {
     "data": {
      "text/plain": [
       "Index(['state', 'year', 'felony', 'violent', 'violenth', 'violentpartial',\n",
       "       'dealer', 'dealerh', 'permit', 'permith', 'training', 'permitlaw',\n",
       "       'age21longgunsaled', 'universal', 'universalh', 'gunshow', 'gunshowh',\n",
       "       'universalpermit', 'universalpermith', 'backgroundpurge',\n",
       "       'ammbackground', 'threedaylimit', 'mentalhealth', 'statechecks',\n",
       "       'statechecksh', 'assault', 'onefeature', 'assaultlist', 'college',\n",
       "       'collegeconcealed', 'elementary', 'opencarryh', 'opencarryl',\n",
       "       'opencarrypermith', 'opencarrypermitl', 'permitconcealed',\n",
       "       'ccbackground', 'mcdv', 'dvro', 'exparte', 'stalking',\n",
       "       'registration_req', 'open_carry_legal', 'open_carry_permit_req',\n",
       "       'permit_req_purchase', 'felons_may_own', 'restraining_order_may_own',\n",
       "       'dv_offender_may_own', 'violent_offender_may_own',\n",
       "       'conv_stalker_may_own', 'dealer_req_license', 'bg_check_required',\n",
       "       'concealed_carry_permit_req', 'guns_on_college_campus',\n",
       "       'guns_at_elemen_sch', 'assault_weapon_ban'],\n",
       "      dtype='object')"
      ]
     },
     "execution_count": 35,
     "metadata": {},
     "output_type": "execute_result"
    }
   ],
   "source": [
    "#determine cols to drop\n",
    "\n",
    "df.columns"
   ]
  },
  {
   "cell_type": "code",
   "execution_count": 36,
   "id": "80c59b6d",
   "metadata": {},
   "outputs": [
    {
     "data": {
      "text/html": [
       "<div>\n",
       "<style scoped>\n",
       "    .dataframe tbody tr th:only-of-type {\n",
       "        vertical-align: middle;\n",
       "    }\n",
       "\n",
       "    .dataframe tbody tr th {\n",
       "        vertical-align: top;\n",
       "    }\n",
       "\n",
       "    .dataframe thead th {\n",
       "        text-align: right;\n",
       "    }\n",
       "</style>\n",
       "<table border=\"1\" class=\"dataframe\">\n",
       "  <thead>\n",
       "    <tr style=\"text-align: right;\">\n",
       "      <th></th>\n",
       "      <th>state</th>\n",
       "      <th>year</th>\n",
       "      <th>registration_req</th>\n",
       "      <th>open_carry_legal</th>\n",
       "      <th>open_carry_permit_req</th>\n",
       "      <th>permit_req_purchase</th>\n",
       "      <th>felons_may_own</th>\n",
       "      <th>restraining_order_may_own</th>\n",
       "      <th>dv_offender_may_own</th>\n",
       "      <th>violent_offender_may_own</th>\n",
       "      <th>conv_stalker_may_own</th>\n",
       "      <th>dealer_req_license</th>\n",
       "      <th>bg_check_required</th>\n",
       "      <th>concealed_carry_permit_req</th>\n",
       "      <th>guns_on_college_campus</th>\n",
       "      <th>guns_at_elemen_sch</th>\n",
       "      <th>assault_weapon_ban</th>\n",
       "    </tr>\n",
       "  </thead>\n",
       "  <tbody>\n",
       "    <tr>\n",
       "      <th>0</th>\n",
       "      <td>AL</td>\n",
       "      <td>2014</td>\n",
       "      <td>No</td>\n",
       "      <td>Yes</td>\n",
       "      <td>No</td>\n",
       "      <td>No</td>\n",
       "      <td>Yes</td>\n",
       "      <td>Yes</td>\n",
       "      <td>Yes</td>\n",
       "      <td>Yes</td>\n",
       "      <td>Yes</td>\n",
       "      <td>Yes</td>\n",
       "      <td>No</td>\n",
       "      <td>Yes</td>\n",
       "      <td>Yes</td>\n",
       "      <td>Yes</td>\n",
       "      <td>No</td>\n",
       "    </tr>\n",
       "    <tr>\n",
       "      <th>1</th>\n",
       "      <td>AK</td>\n",
       "      <td>2014</td>\n",
       "      <td>No</td>\n",
       "      <td>Yes</td>\n",
       "      <td>No</td>\n",
       "      <td>No</td>\n",
       "      <td>No</td>\n",
       "      <td>Yes</td>\n",
       "      <td>Yes</td>\n",
       "      <td>Yes</td>\n",
       "      <td>Yes</td>\n",
       "      <td>No</td>\n",
       "      <td>No</td>\n",
       "      <td>No</td>\n",
       "      <td>Yes</td>\n",
       "      <td>No</td>\n",
       "      <td>No</td>\n",
       "    </tr>\n",
       "    <tr>\n",
       "      <th>2</th>\n",
       "      <td>AZ</td>\n",
       "      <td>2014</td>\n",
       "      <td>No</td>\n",
       "      <td>Yes</td>\n",
       "      <td>No</td>\n",
       "      <td>No</td>\n",
       "      <td>No</td>\n",
       "      <td>Yes</td>\n",
       "      <td>No</td>\n",
       "      <td>Yes</td>\n",
       "      <td>No</td>\n",
       "      <td>No</td>\n",
       "      <td>No</td>\n",
       "      <td>No</td>\n",
       "      <td>Yes</td>\n",
       "      <td>Yes</td>\n",
       "      <td>No</td>\n",
       "    </tr>\n",
       "    <tr>\n",
       "      <th>3</th>\n",
       "      <td>AR</td>\n",
       "      <td>2014</td>\n",
       "      <td>No</td>\n",
       "      <td>Yes</td>\n",
       "      <td>No</td>\n",
       "      <td>No</td>\n",
       "      <td>No</td>\n",
       "      <td>Yes</td>\n",
       "      <td>Yes</td>\n",
       "      <td>Yes</td>\n",
       "      <td>Yes</td>\n",
       "      <td>No</td>\n",
       "      <td>No</td>\n",
       "      <td>Yes</td>\n",
       "      <td>No</td>\n",
       "      <td>No</td>\n",
       "      <td>No</td>\n",
       "    </tr>\n",
       "    <tr>\n",
       "      <th>4</th>\n",
       "      <td>CA</td>\n",
       "      <td>2014</td>\n",
       "      <td>No</td>\n",
       "      <td>No</td>\n",
       "      <td>Yes</td>\n",
       "      <td>Yes</td>\n",
       "      <td>No</td>\n",
       "      <td>No</td>\n",
       "      <td>No</td>\n",
       "      <td>No</td>\n",
       "      <td>No</td>\n",
       "      <td>Yes</td>\n",
       "      <td>Yes</td>\n",
       "      <td>Yes</td>\n",
       "      <td>No</td>\n",
       "      <td>Yes</td>\n",
       "      <td>Yes</td>\n",
       "    </tr>\n",
       "  </tbody>\n",
       "</table>\n",
       "</div>"
      ],
      "text/plain": [
       "  state  year registration_req open_carry_legal open_carry_permit_req  \\\n",
       "0    AL  2014               No              Yes                    No   \n",
       "1    AK  2014               No              Yes                    No   \n",
       "2    AZ  2014               No              Yes                    No   \n",
       "3    AR  2014               No              Yes                    No   \n",
       "4    CA  2014               No               No                   Yes   \n",
       "\n",
       "  permit_req_purchase felons_may_own restraining_order_may_own  \\\n",
       "0                  No            Yes                       Yes   \n",
       "1                  No             No                       Yes   \n",
       "2                  No             No                       Yes   \n",
       "3                  No             No                       Yes   \n",
       "4                 Yes             No                        No   \n",
       "\n",
       "  dv_offender_may_own violent_offender_may_own conv_stalker_may_own  \\\n",
       "0                 Yes                      Yes                  Yes   \n",
       "1                 Yes                      Yes                  Yes   \n",
       "2                  No                      Yes                   No   \n",
       "3                 Yes                      Yes                  Yes   \n",
       "4                  No                       No                   No   \n",
       "\n",
       "  dealer_req_license bg_check_required concealed_carry_permit_req  \\\n",
       "0                Yes                No                        Yes   \n",
       "1                 No                No                         No   \n",
       "2                 No                No                         No   \n",
       "3                 No                No                        Yes   \n",
       "4                Yes               Yes                        Yes   \n",
       "\n",
       "  guns_on_college_campus guns_at_elemen_sch assault_weapon_ban  \n",
       "0                    Yes                Yes                 No  \n",
       "1                    Yes                 No                 No  \n",
       "2                    Yes                Yes                 No  \n",
       "3                     No                 No                 No  \n",
       "4                     No                Yes                Yes  "
      ]
     },
     "execution_count": 36,
     "metadata": {},
     "output_type": "execute_result"
    }
   ],
   "source": [
    "#drop old cols\n",
    "\n",
    "df.drop(columns = ['felony', 'violent', 'violenth', 'violentpartial','dealer', 'dealerh', 'permit', \n",
    "        'permith', 'training', 'permitlaw', 'age21longgunsaled', 'universal', 'universalh', 'gunshow', \n",
    "        'gunshowh', 'universalpermit', 'universalpermith', 'backgroundpurge', 'ammbackground', 'threedaylimit', \n",
    "        'mentalhealth', 'statechecks', 'statechecksh', 'assault', 'onefeature', 'assaultlist', 'college',\n",
    "        'collegeconcealed', 'elementary', 'opencarryh', 'opencarryl', 'opencarrypermith', 'opencarrypermitl', \n",
    "        'permitconcealed', 'ccbackground', 'mcdv', 'dvro', 'exparte', 'stalking'], inplace = True)\n",
    "df.head()"
   ]
  },
  {
   "cell_type": "code",
   "execution_count": 37,
   "id": "ad6c6688",
   "metadata": {},
   "outputs": [
    {
     "data": {
      "text/plain": [
       "(200, 17)"
      ]
     },
     "execution_count": 37,
     "metadata": {},
     "output_type": "execute_result"
    }
   ],
   "source": [
    "df.shape"
   ]
  },
  {
   "cell_type": "markdown",
   "id": "bdeda375",
   "metadata": {},
   "source": [
    "## 03. Add Rows for DC Laws"
   ]
  },
  {
   "cell_type": "code",
   "execution_count": 38,
   "id": "19668c94",
   "metadata": {},
   "outputs": [
    {
     "name": "stderr",
     "output_type": "stream",
     "text": [
      "/var/folders/l0/y75wbnrd7r91nshng87h2x0m0000gn/T/ipykernel_44168/562345067.py:12: FutureWarning: The frame.append method is deprecated and will be removed from pandas in a future version. Use pandas.concat instead.\n",
      "  df = df.append(dc_law_list, ignore_index = True)\n"
     ]
    }
   ],
   "source": [
    "#add DC values\n",
    "\n",
    "dc_law_list = [pd.Series(['DC', '2014', 'Yes', 'No', 'No', 'Yes', 'No', 'No', 'No', 'No', 'No', 'Yes', 'Yes', \n",
    "                         'Yes', 'No', 'No', 'Yes'], index = df.columns),\n",
    "               pd.Series(['DC', '2015', 'Yes', 'No', 'No', 'Yes', 'No', 'No', 'No', 'No', 'No', 'Yes', 'Yes', \n",
    "                         'Yes', 'No', 'No', 'Yes'], index = df.columns),\n",
    "               pd.Series(['DC', '2016', 'Yes', 'No', 'No', 'Yes', 'No', 'No', 'No', 'No', 'No', 'Yes', 'Yes', \n",
    "                         'Yes', 'No', 'No', 'Yes'], index = df.columns),\n",
    "               pd.Series(['DC', '2017', 'Yes', 'No', 'No', 'Yes', 'No', 'No', 'No', 'No', 'No', 'Yes', 'Yes', \n",
    "                         'Yes', 'No', 'No', 'Yes'], index = df.columns)]\n",
    "\n",
    "df = df.append(dc_law_list, ignore_index = True)"
   ]
  },
  {
   "cell_type": "code",
   "execution_count": 39,
   "id": "f73bed5b",
   "metadata": {},
   "outputs": [
    {
     "data": {
      "text/plain": [
       "(204, 17)"
      ]
     },
     "execution_count": 39,
     "metadata": {},
     "output_type": "execute_result"
    }
   ],
   "source": [
    "df.shape"
   ]
  },
  {
   "cell_type": "markdown",
   "id": "5304aba1",
   "metadata": {},
   "source": [
    "## 04. Export DF"
   ]
  },
  {
   "cell_type": "code",
   "execution_count": 40,
   "id": "743a53d6",
   "metadata": {},
   "outputs": [],
   "source": [
    "df.to_csv(os.path.join(path, 'Data', 'Intermediary Data', 'laws_new.csv'), index = False)"
   ]
  },
  {
   "cell_type": "code",
   "execution_count": null,
   "id": "438fb121",
   "metadata": {},
   "outputs": [],
   "source": []
  }
 ],
 "metadata": {
  "kernelspec": {
   "display_name": "Python 3 (ipykernel)",
   "language": "python",
   "name": "python3"
  },
  "language_info": {
   "codemirror_mode": {
    "name": "ipython",
    "version": 3
   },
   "file_extension": ".py",
   "mimetype": "text/x-python",
   "name": "python",
   "nbconvert_exporter": "python",
   "pygments_lexer": "ipython3",
   "version": "3.9.13"
  }
 },
 "nbformat": 4,
 "nbformat_minor": 5
}
